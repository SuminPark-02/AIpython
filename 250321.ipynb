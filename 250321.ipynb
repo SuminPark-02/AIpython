{
  "nbformat": 4,
  "nbformat_minor": 0,
  "metadata": {
    "colab": {
      "provenance": [],
      "authorship_tag": "ABX9TyPp9/QqSbyT/TA4UtaclBHz",
      "include_colab_link": true
    },
    "kernelspec": {
      "name": "python3",
      "display_name": "Python 3"
    },
    "language_info": {
      "name": "python"
    }
  },
  "cells": [
    {
      "cell_type": "markdown",
      "metadata": {
        "id": "view-in-github",
        "colab_type": "text"
      },
      "source": [
        "<a href=\"https://colab.research.google.com/github/SuminPark-02/AIpython/blob/main/250321.ipynb\" target=\"_parent\"><img src=\"https://colab.research.google.com/assets/colab-badge.svg\" alt=\"Open In Colab\"/></a>"
      ]
    },
    {
      "cell_type": "code",
      "execution_count": null,
      "metadata": {
        "colab": {
          "base_uri": "https://localhost:8080/"
        },
        "id": "i_EQO6QqS-42",
        "outputId": "69b6f325-6548-4751-9c57-d1df54ed8177"
      },
      "outputs": [
        {
          "output_type": "stream",
          "name": "stdout",
          "text": [
            "나이를 입력하세요: 10\n",
            "당신은 내년에 10살 입니다.\n",
            "당신은 내년에 10 살 입니다.\n"
          ]
        }
      ],
      "source": [
        "age = int(input(\"나이를 입력하세요: \"))\n",
        "print(f\"당신은 내년에 {age}살 입니다.\")\n",
        "print(\"당신은 내년에\", age, \"살 입니다.\")"
      ]
    },
    {
      "cell_type": "code",
      "source": [
        "age = input(\"나이를 입력하세요: \")\n",
        "print(\"당신은 내년에 \" + age + \"살 입니다.\")"
      ],
      "metadata": {
        "colab": {
          "base_uri": "https://localhost:8080/"
        },
        "id": "IT9X2eDeU32R",
        "outputId": "59d0275f-3f27-43d5-d1e0-3eee0e8c50bf"
      },
      "execution_count": null,
      "outputs": [
        {
          "output_type": "stream",
          "name": "stdout",
          "text": [
            "나이를 입력하세요: 10\n",
            "당신은 내년에 10살 입니다.\n"
          ]
        }
      ]
    },
    {
      "cell_type": "code",
      "source": [
        "# 입력받은 정수값이 음수인지 양수인지 구별하는 조건문\n",
        "num = int(input(\"정수를 입력하세요: \"))\n",
        "if num == 0:\n",
        "  print(\"0입니다.\")\n",
        "elif num > 0:\n",
        "  print(\"양수입니다.\")\n",
        "else:\n",
        "  print(\"음수입니다.\")"
      ],
      "metadata": {
        "colab": {
          "base_uri": "https://localhost:8080/"
        },
        "id": "OIQ0O394W_Mw",
        "outputId": "adf2b5b3-93f9-4889-87f8-5de629cfa463"
      },
      "execution_count": null,
      "outputs": [
        {
          "output_type": "stream",
          "name": "stdout",
          "text": [
            "정수를 입력하세요: 0\n",
            "0입니다.\n"
          ]
        }
      ]
    },
    {
      "cell_type": "code",
      "source": [
        "# 짝수 홀수 구별하기\n",
        "num = int(input(\"자연수를 입력하세요: \"))\n",
        "if (num % 2) == 0:\n",
        "  print(\"짝수입니다.\")\n",
        "else:\n",
        "  print(\"홀수입니다.\")"
      ],
      "metadata": {
        "colab": {
          "base_uri": "https://localhost:8080/"
        },
        "id": "vBlS99R-crLv",
        "outputId": "5397365b-cfa2-490b-fec0-63c8623e279b"
      },
      "execution_count": null,
      "outputs": [
        {
          "output_type": "stream",
          "name": "stdout",
          "text": [
            "자연수를 입력하세요: 2\n",
            "짝수입니다.\n"
          ]
        }
      ]
    },
    {
      "cell_type": "code",
      "source": [
        "# 가위 바위 보 게임 승패 판별하기\n",
        "a, b = map(int, input().split())\n",
        "\n",
        "if a < 1 or b < 1 or a > 3 or b > 3:\n",
        "  print(\"잘못된입력\")\n",
        "elif a == b:\n",
        "  print(\"무승부\")\n",
        "elif (a == 2 and b == 1) or (a == 3 and b == 2) or (a == 1 and b == 3):\n",
        "  print(\"A승B패\")\n",
        "else:\n",
        "  print(\"B승A패\")"
      ],
      "metadata": {
        "colab": {
          "base_uri": "https://localhost:8080/"
        },
        "id": "w7zTuE37dGcl",
        "outputId": "84bc763e-ecc0-4597-bcd2-e8836180afcc"
      },
      "execution_count": null,
      "outputs": [
        {
          "output_type": "stream",
          "name": "stdout",
          "text": [
            "2 2\n",
            "무승부\n"
          ]
        }
      ]
    }
  ]
}