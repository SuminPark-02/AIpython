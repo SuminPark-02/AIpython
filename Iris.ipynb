{
  "nbformat": 4,
  "nbformat_minor": 0,
  "metadata": {
    "colab": {
      "provenance": [],
      "authorship_tag": "ABX9TyPj30NcMOvEpN/cW3BOxjND",
      "include_colab_link": true
    },
    "kernelspec": {
      "name": "python3",
      "display_name": "Python 3"
    },
    "language_info": {
      "name": "python"
    }
  },
  "cells": [
    {
      "cell_type": "markdown",
      "metadata": {
        "id": "view-in-github",
        "colab_type": "text"
      },
      "source": [
        "<a href=\"https://colab.research.google.com/github/SuminPark-02/AIpython/blob/main/Iris.ipynb\" target=\"_parent\"><img src=\"https://colab.research.google.com/assets/colab-badge.svg\" alt=\"Open In Colab\"/></a>"
      ]
    },
    {
      "cell_type": "code",
      "source": [
        "import numpy as np\n",
        "import pandas as pd\n",
        "import matplotlib.pyplot as plt"
      ],
      "metadata": {
        "id": "Wgkgp250Bo2m"
      },
      "execution_count": null,
      "outputs": []
    },
    {
      "cell_type": "code",
      "execution_count": null,
      "metadata": {
        "colab": {
          "base_uri": "https://localhost:8080/"
        },
        "id": "uBXmP8TjBbGY",
        "outputId": "23fcaa99-fcaa-4115-e95c-dc877583bed0"
      },
      "outputs": [
        {
          "output_type": "stream",
          "name": "stdout",
          "text": [
            "      Id  SepalLengthCm  SepalWidthCm  PetalLengthCm  PetalWidthCm  \\\n",
            "0      1            5.1           3.5            1.4           0.2   \n",
            "1      2            4.9           3.0            1.4           0.2   \n",
            "2      3            4.7           3.2            1.3           0.2   \n",
            "3      4            4.6           3.1            1.5           0.2   \n",
            "4      5            5.0           3.6            1.4           0.2   \n",
            "..   ...            ...           ...            ...           ...   \n",
            "145  146            6.7           3.0            5.2           2.3   \n",
            "146  147            6.3           2.5            5.0           1.9   \n",
            "147  148            6.5           3.0            5.2           2.0   \n",
            "148  149            6.2           3.4            5.4           2.3   \n",
            "149  150            5.9           3.0            5.1           1.8   \n",
            "\n",
            "            Species  \n",
            "0       Iris-setosa  \n",
            "1       Iris-setosa  \n",
            "2       Iris-setosa  \n",
            "3       Iris-setosa  \n",
            "4       Iris-setosa  \n",
            "..              ...  \n",
            "145  Iris-virginica  \n",
            "146  Iris-virginica  \n",
            "147  Iris-virginica  \n",
            "148  Iris-virginica  \n",
            "149  Iris-virginica  \n",
            "\n",
            "[150 rows x 6 columns]\n"
          ]
        }
      ],
      "source": [
        "# 문제1 : 데이터 파일 열어보기\n",
        "\n",
        "df = pd.read_csv('Iris.csv')\n",
        "print(df)"
      ]
    },
    {
      "cell_type": "code",
      "source": [
        "# 문제2 : 데이터 구경하기\n",
        "\n",
        "print(\"붓꽃 데이터의 개수 :\", df.shape[0])\n",
        "print(\"정보(열)의 개수 :\", df.shape[1])"
      ],
      "metadata": {
        "colab": {
          "base_uri": "https://localhost:8080/"
        },
        "id": "delNQ6-pB4iV",
        "outputId": "4db843e2-f12f-4ae4-bec8-ab62396005a2"
      },
      "execution_count": null,
      "outputs": [
        {
          "output_type": "stream",
          "name": "stdout",
          "text": [
            "붓꽃 데이터의 개수 : 150\n",
            "정보(열)의 개수 : 6\n"
          ]
        }
      ]
    },
    {
      "cell_type": "code",
      "source": [
        "# 문제3 : 각 열의 이름 확인하기\n",
        "\n",
        "print(df.columns)"
      ],
      "metadata": {
        "colab": {
          "base_uri": "https://localhost:8080/"
        },
        "id": "X2nIM4vPCyNi",
        "outputId": "a5e6545b-5f8f-4dcb-99ba-063a2ccdd515"
      },
      "execution_count": null,
      "outputs": [
        {
          "output_type": "stream",
          "name": "stdout",
          "text": [
            "Index(['Id', 'SepalLengthCm', 'SepalWidthCm', 'PetalLengthCm', 'PetalWidthCm',\n",
            "       'Species'],\n",
            "      dtype='object')\n"
          ]
        }
      ]
    },
    {
      "cell_type": "code",
      "source": [
        "# 문제4 : 기본 정보 확인하기\n",
        "\n",
        "print(\"비어있는 값(null)의 존재 여부 :\")\n",
        "print(df.isnull().sum())\n",
        "print()\n",
        "\n",
        "print(\"숫자로 된 열의 개수 :\", df.select_dtypes(include=np.number).shape[1])"
      ],
      "metadata": {
        "colab": {
          "base_uri": "https://localhost:8080/"
        },
        "id": "tLXWy21yDAPm",
        "outputId": "032e2476-5676-44ed-e7fa-719ffb414f13"
      },
      "execution_count": null,
      "outputs": [
        {
          "output_type": "stream",
          "name": "stdout",
          "text": [
            "비어있는 값(null)의 존재 여부 :\n",
            "Id               0\n",
            "SepalLengthCm    0\n",
            "SepalWidthCm     0\n",
            "PetalLengthCm    0\n",
            "PetalWidthCm     0\n",
            "Species          0\n",
            "dtype: int64\n",
            "\n",
            "숫자로 된 열의 개수 : 5\n"
          ]
        }
      ]
    },
    {
      "cell_type": "code",
      "source": [
        "# 문제5 : 간단한 계산해보기\n",
        "\n",
        "print(\"꽃받침 길이의 평균 :\", df['SepalLengthCm'].mean(), \"cm\")\n",
        "print(\"꽃잎 너비의 최댓값 :\", df['PetalWidthCm'].max(), \"cm\")"
      ],
      "metadata": {
        "colab": {
          "base_uri": "https://localhost:8080/"
        },
        "id": "5lrfAUhcDmxy",
        "outputId": "49e86dc8-6f46-42e8-b485-062bd3911751"
      },
      "execution_count": null,
      "outputs": [
        {
          "output_type": "stream",
          "name": "stdout",
          "text": [
            "꽃받침 길이의 평균 : 5.843333333333334 cm\n",
            "꽃잎 너비의 최댓값 : 2.5 cm\n"
          ]
        }
      ]
    },
    {
      "cell_type": "code",
      "source": [
        "# 문제6 : 붓꽃 종류별로 개수 세기\n",
        "\n",
        "print(\"각 붓꽃 종류별 데이터 개수 :\")\n",
        "counts = df['Species'].value_counts()\n",
        "print(counts)\n",
        "print()\n",
        "\n",
        "if len(set(counts.values)) == 1:\n",
        "  print(\"세 종류의 개수가 같습니다.\")\n",
        "else:\n",
        "  print(\"세 종류의 개수가 같지 않습니다.\")"
      ],
      "metadata": {
        "colab": {
          "base_uri": "https://localhost:8080/"
        },
        "id": "0vwOPLviFF28",
        "outputId": "df99172f-042d-4927-e72f-3cefd6a7a562"
      },
      "execution_count": null,
      "outputs": [
        {
          "output_type": "stream",
          "name": "stdout",
          "text": [
            "각 붓꽃 종류별 데이터 개수 :\n",
            "Species\n",
            "Iris-setosa        50\n",
            "Iris-versicolor    50\n",
            "Iris-virginica     50\n",
            "Name: count, dtype: int64\n",
            "\n",
            "세 종류의 개수가 같습니다.\n"
          ]
        }
      ]
    },
    {
      "cell_type": "code",
      "source": [
        "# 문제7 : 특정 조건의 데이터 찾기\n",
        "\n",
        "print(\"꽃잎 길이가 2.0보다 큰 데이터 개수 :\", df[df['PetalLengthCm'] > 2.0].shape[0])\n",
        "print()\n",
        "\n",
        "print(\"꽃받침 넓이가 3.5보다 큰 데이터 :\")\n",
        "print(df[df['SepalWidthCm'] >3.5])"
      ],
      "metadata": {
        "colab": {
          "base_uri": "https://localhost:8080/"
        },
        "id": "VOI1pg5GGvFo",
        "outputId": "fc904ea5-afbc-4152-b587-6700158108a2"
      },
      "execution_count": null,
      "outputs": [
        {
          "output_type": "stream",
          "name": "stdout",
          "text": [
            "꽃잎 길이가 2.0보다 큰 데이터 개수 : 100\n",
            "\n",
            "꽃받침 넓이가 3.5보다 큰 데이터 :\n",
            "      Id  SepalLengthCm  SepalWidthCm  PetalLengthCm  PetalWidthCm  \\\n",
            "4      5            5.0           3.6            1.4           0.2   \n",
            "5      6            5.4           3.9            1.7           0.4   \n",
            "10    11            5.4           3.7            1.5           0.2   \n",
            "14    15            5.8           4.0            1.2           0.2   \n",
            "15    16            5.7           4.4            1.5           0.4   \n",
            "16    17            5.4           3.9            1.3           0.4   \n",
            "18    19            5.7           3.8            1.7           0.3   \n",
            "19    20            5.1           3.8            1.5           0.3   \n",
            "21    22            5.1           3.7            1.5           0.4   \n",
            "22    23            4.6           3.6            1.0           0.2   \n",
            "32    33            5.2           4.1            1.5           0.1   \n",
            "33    34            5.5           4.2            1.4           0.2   \n",
            "44    45            5.1           3.8            1.9           0.4   \n",
            "46    47            5.1           3.8            1.6           0.2   \n",
            "48    49            5.3           3.7            1.5           0.2   \n",
            "109  110            7.2           3.6            6.1           2.5   \n",
            "117  118            7.7           3.8            6.7           2.2   \n",
            "131  132            7.9           3.8            6.4           2.0   \n",
            "\n",
            "            Species  \n",
            "4       Iris-setosa  \n",
            "5       Iris-setosa  \n",
            "10      Iris-setosa  \n",
            "14      Iris-setosa  \n",
            "15      Iris-setosa  \n",
            "16      Iris-setosa  \n",
            "18      Iris-setosa  \n",
            "19      Iris-setosa  \n",
            "21      Iris-setosa  \n",
            "22      Iris-setosa  \n",
            "32      Iris-setosa  \n",
            "33      Iris-setosa  \n",
            "44      Iris-setosa  \n",
            "46      Iris-setosa  \n",
            "48      Iris-setosa  \n",
            "109  Iris-virginica  \n",
            "117  Iris-virginica  \n",
            "131  Iris-virginica  \n"
          ]
        }
      ]
    },
    {
      "cell_type": "code",
      "source": [
        "# 문제8 : 특정 붓꽃 종류만 보기\n",
        "\n",
        "print(\"Iris-versicolor의 평균 꽃잎 길이 :\", df[df['Species'] == 'Iris-versicolor']['PetalLengthCm'].mean(), \"cm\")\n",
        "print(\"Iris-virginica의 최대 꽃받침 너비 :\", df[df['Species'] == 'Iris-virginica']['SepalWidthCm'].max(), \"cm\")"
      ],
      "metadata": {
        "colab": {
          "base_uri": "https://localhost:8080/"
        },
        "id": "EeNxR8J9H7EF",
        "outputId": "25b45fc0-da6e-4556-e362-0a3a35644e46"
      },
      "execution_count": null,
      "outputs": [
        {
          "output_type": "stream",
          "name": "stdout",
          "text": [
            "Iris-versicolor의 평균 꽃잎 길이 : 4.26 cm\n",
            "Iris-virginica의 최대 꽃받침 너비 : 3.8 cm\n"
          ]
        }
      ]
    },
    {
      "cell_type": "code",
      "source": [
        "# 문제9 : 첫번째 그래프 그리기\n",
        "\n",
        "plt.hist(df['PetalLengthCm'], bins=18)\n",
        "\n",
        "plt.title(\"Petal Length Histogram\")\n",
        "plt.xlabel(\"Petal Length (cm)\")\n",
        "plt.ylabel(\"Data Count\")\n",
        "\n",
        "plt.show()\n",
        "\n",
        "# 약 1.33 ~ 1.66 사이의 데이터가 가장 많다."
      ],
      "metadata": {
        "colab": {
          "base_uri": "https://localhost:8080/",
          "height": 472
        },
        "id": "62g21i9cJAWT",
        "outputId": "bebe702b-543f-45be-e869-6c9915da70f6"
      },
      "execution_count": null,
      "outputs": [
        {
          "output_type": "display_data",
          "data": {
            "text/plain": [
              "<Figure size 640x480 with 1 Axes>"
            ],
            "image/png": "[encoded data removed]"
          },
          "metadata": {}
        }
      ]
    },
    {
      "cell_type": "code",
      "source": [
        "# 문제10 : 산점도 그리기\n",
        "\n",
        "plt.scatter(df['PetalLengthCm'], df['PetalWidthCm'])\n",
        "\n",
        "plt.title(\"Petal Length & Width\")\n",
        "plt.xlabel(\"Petal Length (cm)\")\n",
        "plt.ylabel(\"Petal Width (cm)\")\n",
        "\n",
        "plt.show()\n",
        "\n",
        "# 꽃잎 길이가 길수록 너비가 넓어진다."
      ],
      "metadata": {
        "colab": {
          "base_uri": "https://localhost:8080/",
          "height": 472
        },
        "id": "lQg-ajT0J1K_",
        "outputId": "8b9dc440-0b63-4ccd-faaf-16bae6ea05eb"
      },
      "execution_count": null,
      "outputs": [
        {
          "output_type": "display_data",
          "data": {
            "text/plain": [
              "<Figure size 640x480 with 1 Axes>"
            ],
            "image/png": "[encoded data removed]"
          },
          "metadata": {}
        }
      ]
    },
    {
      "cell_type": "code",
      "source": [
        "# 문제11 : 붓꽃 종류별로 다른 색깔로 산점도 그리기\n",
        "\n",
        "species_names = df['Species'].unique()\n",
        "colors = ['red', 'green', 'blue']\n",
        "\n",
        "for i, species in enumerate(species_names):\n",
        "    subset = df[df['Species'] == species]\n",
        "    plt.scatter(subset['PetalLengthCm'], subset['PetalWidthCm'], c=colors[i], label=species)\n",
        "\n",
        "plt.title(\"Petal Length & Width by Species\")\n",
        "plt.xlabel(\"Petal Length (cm)\")\n",
        "plt.ylabel(\"Petal Width (cm)\")\n",
        "plt.legend()\n",
        "plt.show()\n",
        "\n",
        "# Iris-setosa가 가장 구별되고, Iris-versicolor와 Iris-virginica는 일부분 겹친다."
      ],
      "metadata": {
        "id": "913XzSx4Kf0Z",
        "colab": {
          "base_uri": "https://localhost:8080/",
          "height": 472
        },
        "outputId": "aa1fb28d-e77a-4a15-ed83-96d0583b610f"
      },
      "execution_count": null,
      "outputs": [
        {
          "output_type": "display_data",
          "data": {
            "text/plain": [
              "<Figure size 640x480 with 1 Axes>"
            ],
            "image/png": "[encoded data removed]"
          },
          "metadata": {}
        }
      ]
    },
    {
      "cell_type": "code",
      "source": [
        "# 문제12 : 종류별 평균 비교하기\n",
        "\n",
        "print(\"종류별 평균 비교:\")\n",
        "grouped_df = df.groupby('Species')[['SepalLengthCm', 'PetalWidthCm']].mean()\n",
        "display(grouped_df)\n",
        "print()\n",
        "\n",
        "species_max_sepal_length = grouped_df['SepalLengthCm'].idxmax()\n",
        "print(f\"꽃받침이 가장 긴 종류 : {species_max_sepal_length}\")\n",
        "\n",
        "species_max_petal_width = grouped_df['PetalWidthCm'].idxmax()\n",
        "print(f\"꽃잎이 가장 넓은 종류 : {species_max_petal_width}\")"
      ],
      "metadata": {
        "colab": {
          "base_uri": "https://localhost:8080/",
          "height": 248
        },
        "id": "rwc0JXnEKp5v",
        "outputId": "aab0840b-9c39-479f-b278-9a7d80dfc9e1"
      },
      "execution_count": null,
      "outputs": [
        {
          "output_type": "stream",
          "name": "stdout",
          "text": [
            "종류별 평균 비교:\n"
          ]
        },
        {
          "output_type": "display_data",
          "data": {
            "text/plain": [
              "                 SepalLengthCm  PetalWidthCm\n",
              "Species                                     \n",
              "Iris-setosa              5.006         0.244\n",
              "Iris-versicolor          5.936         1.326\n",
              "Iris-virginica           6.588         2.026"
            ],
            "text/html": [
              "\n",
              "  <div id=\"df-b1e7732d-17ec-481b-8165-1c5a921df16d\" class=\"colab-df-container\">\n",
              "    <div>\n",
              "<style scoped>\n",
              "    .dataframe tbody tr th:only-of-type {\n",
              "        vertical-align: middle;\n",
              "    }\n",
              "\n",
              "    .dataframe tbody tr th {\n",
              "        vertical-align: top;\n",
              "    }\n",
              "\n",
              "    .dataframe thead th {\n",
              "        text-align: right;\n",
              "    }\n",
              "</style>\n",
              "<table border=\"1\" class=\"dataframe\">\n",
              "  <thead>\n",
              "    <tr style=\"text-align: right;\">\n",
              "      <th></th>\n",
              "      <th>SepalLengthCm</th>\n",
              "      <th>PetalWidthCm</th>\n",
              "    </tr>\n",
              "    <tr>\n",
              "      <th>Species</th>\n",
              "      <th></th>\n",
              "      <th></th>\n",
              "    </tr>\n",
              "  </thead>\n",
              "  <tbody>\n",
              "    <tr>\n",
              "      <th>Iris-setosa</th>\n",
              "      <td>5.006</td>\n",
              "      <td>0.244</td>\n",
              "    </tr>\n",
              "    <tr>\n",
              "      <th>Iris-versicolor</th>\n",
              "      <td>5.936</td>\n",
              "      <td>1.326</td>\n",
              "    </tr>\n",
              "    <tr>\n",
              "      <th>Iris-virginica</th>\n",
              "      <td>6.588</td>\n",
              "      <td>2.026</td>\n",
              "    </tr>\n",
              "  </tbody>\n",
              "</table>\n",
              "</div>\n",
              "    <div class=\"colab-df-buttons\">\n",
              "\n",
              "  <div class=\"colab-df-container\">\n",
              "    <button class=\"colab-df-convert\" onclick=\"convertToInteractive('df-b1e7732d-17ec-481b-8165-1c5a921df16d')\"\n",
              "            title=\"Convert this dataframe to an interactive table.\"\n",
              "            style=\"display:none;\">\n",
              "\n",
              "  <svg xmlns=\"http://www.w3.org/2000/svg\" height=\"24px\" viewBox=\"0 -960 960 960\">\n",
              "    <path d=\"M120-120v-720h720v720H120Zm60-500h600v-160H180v160Zm220 220h160v-160H400v160Zm0 220h160v-160H400v160ZM180-400h160v-160H180v160Zm440 0h160v-160H620v160ZM180-180h160v-160H180v160Zm440 0h160v-160H620v160Z\"/>\n",
              "  </svg>\n",
              "    </button>\n",
              "\n",
              "  <style>\n",
              "    .colab-df-container {\n",
              "      display:flex;\n",
              "      gap: 12px;\n",
              "    }\n",
              "\n",
              "    .colab-df-convert {\n",
              "      background-color: #E8F0FE;\n",
              "      border: none;\n",
              "      border-radius: 50%;\n",
              "      cursor: pointer;\n",
              "      display: none;\n",
              "      fill: #1967D2;\n",
              "      height: 32px;\n",
              "      padding: 0 0 0 0;\n",
              "      width: 32px;\n",
              "    }\n",
              "\n",
              "    .colab-df-convert:hover {\n",
              "      background-color: #E2EBFA;\n",
              "      box-shadow: 0px 1px 2px rgba(60, 64, 67, 0.3), 0px 1px 3px 1px rgba(60, 64, 67, 0.15);\n",
              "      fill: #174EA6;\n",
              "    }\n",
              "\n",
              "    .colab-df-buttons div {\n",
              "      margin-bottom: 4px;\n",
              "    }\n",
              "\n",
              "    [theme=dark] .colab-df-convert {\n",
              "      background-color: #3B4455;\n",
              "      fill: #D2E3FC;\n",
              "    }\n",
              "\n",
              "    [theme=dark] .colab-df-convert:hover {\n",
              "      background-color: #434B5C;\n",
              "      box-shadow: 0px 1px 3px 1px rgba(0, 0, 0, 0.15);\n",
              "      filter: drop-shadow(0px 1px 2px rgba(0, 0, 0, 0.3));\n",
              "      fill: #FFFFFF;\n",
              "    }\n",
              "  </style>\n",
              "\n",
              "    <script>\n",
              "      const buttonEl =\n",
              "        document.querySelector('#df-b1e7732d-17ec-481b-8165-1c5a921df16d button.colab-df-convert');\n",
              "      buttonEl.style.display =\n",
              "        google.colab.kernel.accessAllowed ? 'block' : 'none';\n",
              "\n",
              "      async function convertToInteractive(key) {\n",
              "        const element = document.querySelector('#df-b1e7732d-17ec-481b-8165-1c5a921df16d');\n",
              "        const dataTable =\n",
              "          await google.colab.kernel.invokeFunction('convertToInteractive',\n",
              "                                                    [key], {});\n",
              "        if (!dataTable) return;\n",
              "\n",
              "        const docLinkHtml = 'Like what you see? Visit the ' +\n",
              "          '<a target=\"_blank\" href=https://colab.research.google.com/notebooks/data_table.ipynb>data table notebook</a>'\n",
              "          + ' to learn more about interactive tables.';\n",
              "        element.innerHTML = '';\n",
              "        dataTable['output_type'] = 'display_data';\n",
              "        await google.colab.output.renderOutput(dataTable, element);\n",
              "        const docLink = document.createElement('div');\n",
              "        docLink.innerHTML = docLinkHtml;\n",
              "        element.appendChild(docLink);\n",
              "      }\n",
              "    </script>\n",
              "  </div>\n",
              "\n",
              "\n",
              "    <div id=\"df-5a8c9654-e4a4-43ba-b2c2-759f512d93ce\">\n",
              "      <button class=\"colab-df-quickchart\" onclick=\"quickchart('df-5a8c9654-e4a4-43ba-b2c2-759f512d93ce')\"\n",
              "                title=\"Suggest charts\"\n",
              "                style=\"display:none;\">\n",
              "\n",
              "<svg xmlns=\"http://www.w3.org/2000/svg\" height=\"24px\"viewBox=\"0 0 24 24\"\n",
              "     width=\"24px\">\n",
              "    <g>\n",
              "        <path d=\"M19 3H5c-1.1 0-2 .9-2 2v14c0 1.1.9 2 2 2h14c1.1 0 2-.9 2-2V5c0-1.1-.9-2-2-2zM9 17H7v-7h2v7zm4 0h-2V7h2v10zm4 0h-2v-4h2v4z\"/>\n",
              "    </g>\n",
              "</svg>\n",
              "      </button>\n",
              "\n",
              "<style>\n",
              "  .colab-df-quickchart {\n",
              "      --bg-color: #E8F0FE;\n",
              "      --fill-color: #1967D2;\n",
              "      --hover-bg-color: #E2EBFA;\n",
              "      --hover-fill-color: #174EA6;\n",
              "      --disabled-fill-color: #AAA;\n",
              "      --disabled-bg-color: #DDD;\n",
              "  }\n",
              "\n",
              "  [theme=dark] .colab-df-quickchart {\n",
              "      --bg-color: #3B4455;\n",
              "      --fill-color: #D2E3FC;\n",
              "      --hover-bg-color: #434B5C;\n",
              "      --hover-fill-color: #FFFFFF;\n",
              "      --disabled-bg-color: #3B4455;\n",
              "      --disabled-fill-color: #666;\n",
              "  }\n",
              "\n",
              "  .colab-df-quickchart {\n",
              "    background-color: var(--bg-color);\n",
              "    border: none;\n",
              "    border-radius: 50%;\n",
              "    cursor: pointer;\n",
              "    display: none;\n",
              "    fill: var(--fill-color);\n",
              "    height: 32px;\n",
              "    padding: 0;\n",
              "    width: 32px;\n",
              "  }\n",
              "\n",
              "  .colab-df-quickchart:hover {\n",
              "    background-color: var(--hover-bg-color);\n",
              "    box-shadow: 0 1px 2px rgba(60, 64, 67, 0.3), 0 1px 3px 1px rgba(60, 64, 67, 0.15);\n",
              "    fill: var(--button-hover-fill-color);\n",
              "  }\n",
              "\n",
              "  .colab-df-quickchart-complete:disabled,\n",
              "  .colab-df-quickchart-complete:disabled:hover {\n",
              "    background-color: var(--disabled-bg-color);\n",
              "    fill: var(--disabled-fill-color);\n",
              "    box-shadow: none;\n",
              "  }\n",
              "\n",
              "  .colab-df-spinner {\n",
              "    border: 2px solid var(--fill-color);\n",
              "    border-color: transparent;\n",
              "    border-bottom-color: var(--fill-color);\n",
              "    animation:\n",
              "      spin 1s steps(1) infinite;\n",
              "  }\n",
              "\n",
              "  @keyframes spin {\n",
              "    0% {\n",
              "      border-color: transparent;\n",
              "      border-bottom-color: var(--fill-color);\n",
              "      border-left-color: var(--fill-color);\n",
              "    }\n",
              "    20% {\n",
              "      border-color: transparent;\n",
              "      border-left-color: var(--fill-color);\n",
              "      border-top-color: var(--fill-color);\n",
              "    }\n",
              "    30% {\n",
              "      border-color: transparent;\n",
              "      border-left-color: var(--fill-color);\n",
              "      border-top-color: var(--fill-color);\n",
              "      border-right-color: var(--fill-color);\n",
              "    }\n",
              "    40% {\n",
              "      border-color: transparent;\n",
              "      border-right-color: var(--fill-color);\n",
              "      border-top-color: var(--fill-color);\n",
              "    }\n",
              "    60% {\n",
              "      border-color: transparent;\n",
              "      border-right-color: var(--fill-color);\n",
              "    }\n",
              "    80% {\n",
              "      border-color: transparent;\n",
              "      border-right-color: var(--fill-color);\n",
              "      border-bottom-color: var(--fill-color);\n",
              "    }\n",
              "    90% {\n",
              "      border-color: transparent;\n",
              "      border-bottom-color: var(--fill-color);\n",
              "    }\n",
              "  }\n",
              "</style>\n",
              "\n",
              "      <script>\n",
              "        async function quickchart(key) {\n",
              "          const quickchartButtonEl =\n",
              "            document.querySelector('#' + key + ' button');\n",
              "          quickchartButtonEl.disabled = true;  // To prevent multiple clicks.\n",
              "          quickchartButtonEl.classList.add('colab-df-spinner');\n",
              "          try {\n",
              "            const charts = await google.colab.kernel.invokeFunction(\n",
              "                'suggestCharts', [key], {});\n",
              "          } catch (error) {\n",
              "            console.error('Error during call to suggestCharts:', error);\n",
              "          }\n",
              "          quickchartButtonEl.classList.remove('colab-df-spinner');\n",
              "          quickchartButtonEl.classList.add('colab-df-quickchart-complete');\n",
              "        }\n",
              "        (() => {\n",
              "          let quickchartButtonEl =\n",
              "            document.querySelector('#df-5a8c9654-e4a4-43ba-b2c2-759f512d93ce button');\n",
              "          quickchartButtonEl.style.display =\n",
              "            google.colab.kernel.accessAllowed ? 'block' : 'none';\n",
              "        })();\n",
              "      </script>\n",
              "    </div>\n",
              "\n",
              "  <div id=\"id_25966338-abf9-4336-9b28-304473d03b84\">\n",
              "    <style>\n",
              "      .colab-df-generate {\n",
              "        background-color: #E8F0FE;\n",
              "        border: none;\n",
              "        border-radius: 50%;\n",
              "        cursor: pointer;\n",
              "        display: none;\n",
              "        fill: #1967D2;\n",
              "        height: 32px;\n",
              "        padding: 0 0 0 0;\n",
              "        width: 32px;\n",
              "      }\n",
              "\n",
              "      .colab-df-generate:hover {\n",
              "        background-color: #E2EBFA;\n",
              "        box-shadow: 0px 1px 2px rgba(60, 64, 67, 0.3), 0px 1px 3px 1px rgba(60, 64, 67, 0.15);\n",
              "        fill: #174EA6;\n",
              "      }\n",
              "\n",
              "      [theme=dark] .colab-df-generate {\n",
              "        background-color: #3B4455;\n",
              "        fill: #D2E3FC;\n",
              "      }\n",
              "\n",
              "      [theme=dark] .colab-df-generate:hover {\n",
              "        background-color: #434B5C;\n",
              "        box-shadow: 0px 1px 3px 1px rgba(0, 0, 0, 0.15);\n",
              "        filter: drop-shadow(0px 1px 2px rgba(0, 0, 0, 0.3));\n",
              "        fill: #FFFFFF;\n",
              "      }\n",
              "    </style>\n",
              "    <button class=\"colab-df-generate\" onclick=\"generateWithVariable('grouped_df')\"\n",
              "            title=\"Generate code using this dataframe.\"\n",
              "            style=\"display:none;\">\n",
              "\n",
              "  <svg xmlns=\"http://www.w3.org/2000/svg\" height=\"24px\"viewBox=\"0 0 24 24\"\n",
              "       width=\"24px\">\n",
              "    <path d=\"M7,19H8.4L18.45,9,17,7.55,7,17.6ZM5,21V16.75L18.45,3.32a2,2,0,0,1,2.83,0l1.4,1.43a1.91,1.91,0,0,1,.58,1.4,1.91,1.91,0,0,1-.58,1.4L9.25,21ZM18.45,9,17,7.55Zm-12,3A5.31,5.31,0,0,0,4.9,8.1,5.31,5.31,0,0,0,1,6.5,5.31,5.31,0,0,0,4.9,4.9,5.31,5.31,0,0,0,6.5,1,5.31,5.31,0,0,0,8.1,4.9,5.31,5.31,0,0,0,12,6.5,5.46,5.46,0,0,0,6.5,12Z\"/>\n",
              "  </svg>\n",
              "    </button>\n",
              "    <script>\n",
              "      (() => {\n",
              "      const buttonEl =\n",
              "        document.querySelector('#id_25966338-abf9-4336-9b28-304473d03b84 button.colab-df-generate');\n",
              "      buttonEl.style.display =\n",
              "        google.colab.kernel.accessAllowed ? 'block' : 'none';\n",
              "\n",
              "      buttonEl.onclick = () => {\n",
              "        google.colab.notebook.generateWithVariable('grouped_df');\n",
              "      }\n",
              "      })();\n",
              "    </script>\n",
              "  </div>\n",
              "\n",
              "    </div>\n",
              "  </div>\n"
            ],
            "application/vnd.google.colaboratory.intrinsic+json": {
              "type": "dataframe",
              "variable_name": "grouped_df",
              "summary": "{\n  \"name\": \"grouped_df\",\n  \"rows\": 3,\n  \"fields\": [\n    {\n      \"column\": \"Species\",\n      \"properties\": {\n        \"dtype\": \"string\",\n        \"num_unique_values\": 3,\n        \"samples\": [\n          \"Iris-setosa\",\n          \"Iris-versicolor\",\n          \"Iris-virginica\"\n        ],\n        \"semantic_type\": \"\",\n        \"description\": \"\"\n      }\n    },\n    {\n      \"column\": \"SepalLengthCm\",\n      \"properties\": {\n        \"dtype\": \"number\",\n        \"std\": 0.7950605846936022,\n        \"min\": 5.006,\n        \"max\": 6.587999999999999,\n        \"num_unique_values\": 3,\n        \"samples\": [\n          5.006,\n          5.936,\n          6.587999999999999\n        ],\n        \"semantic_type\": \"\",\n        \"description\": \"\"\n      }\n    },\n    {\n      \"column\": \"PetalWidthCm\",\n      \"properties\": {\n        \"dtype\": \"number\",\n        \"std\": 0.8977980470759185,\n        \"min\": 0.24400000000000002,\n        \"max\": 2.026,\n        \"num_unique_values\": 3,\n        \"samples\": [\n          0.24400000000000002,\n          1.3259999999999998,\n          2.026\n        ],\n        \"semantic_type\": \"\",\n        \"description\": \"\"\n      }\n    }\n  ]\n}"
            }
          },
          "metadata": {}
        },
        {
          "output_type": "stream",
          "name": "stdout",
          "text": [
            "\n",
            "꽃받침이 가장 긴 종류 : Iris-virginica\n",
            "꽃잎이 가장 넓은 종류 : Iris-virginica\n"
          ]
        }
      ]
    },
    {
      "cell_type": "code",
      "source": [
        "# 문제13 : 막대 그래프로 평균 비교하기\n",
        "\n",
        "petal_length_mean = df.groupby('Species')['PetalLengthCm'].mean()\n",
        "plt.bar(petal_length_mean.index, petal_length_mean.values)\n",
        "\n",
        "plt.title(\"Average Petal Length by Species\")\n",
        "plt.xlabel(\"Species\")\n",
        "plt.ylabel(\"Average Petal Length (cm)\")\n",
        "plt.show()\n",
        "\n",
        "# Iris-setosa가 가장 큰 차이를 보여준다."
      ],
      "metadata": {
        "colab": {
          "base_uri": "https://localhost:8080/",
          "height": 472
        },
        "id": "R4JdZXhiLQwi",
        "outputId": "5c83ecea-3096-4870-ea75-78b632a03f60"
      },
      "execution_count": null,
      "outputs": [
        {
          "output_type": "display_data",
          "data": {
            "text/plain": [
              "<Figure size 640x480 with 1 Axes>"
            ],
            "image/png": "[encoded data removed]"
          },
          "metadata": {}
        }
      ]
    },
    {
      "cell_type": "code",
      "source": [
        "# 문제14 : 박스플롯으로 분포 비교하기\n",
        "df.boxplot(column='PetalLengthCm', by='Species')\n",
        "\n",
        "plt.title(\"Distribution of Petal Length by Species\")\n",
        "plt.xlabel(\"Species\")\n",
        "plt.ylabel(\"Petal Length (cm)\")\n",
        "plt.show()\n",
        "\n",
        "# Iris_virginica가 가장 넓은 범위의 값을 가지며, Iris-setos와 Iris_versicolor에는 점으로 표시된 이상하게 튀는 값들이 존재한다."
      ],
      "metadata": {
        "id": "A66WC5f1LZMa",
        "colab": {
          "base_uri": "https://localhost:8080/",
          "height": 478
        },
        "outputId": "2a103595-4a82-4707-aa87-9557d06a7ada"
      },
      "execution_count": null,
      "outputs": [
        {
          "output_type": "display_data",
          "data": {
            "text/plain": [
              "<Figure size 640x480 with 1 Axes>"
            ],
            "image/png": "[encoded data removed]"
          },
          "metadata": {}
        }
      ]
    },
    {
      "cell_type": "code",
      "source": [
        "# 문제15 : 새로운 값 계산하기\n",
        "df['SepalArea'] = df['SepalLengthCm'] * df['SepalWidthCm']\n",
        "df['PetalArea'] = df['PetalLengthCm'] * df['PetalWidthCm']\n",
        "\n",
        "species_max_sepal_area = df.groupby('Species')['SepalArea'].max().idxmax()\n",
        "species_max_petal_area = df.groupby('Species')['PetalArea'].max().idxmax()\n",
        "\n",
        "print(f\"꽃받침 면적이 가장 큰 종류 : {species_max_sepal_area}\")\n",
        "print(f\"꽃잎 면적이 가장 큰 종류 : {species_max_petal_area}\")"
      ],
      "metadata": {
        "id": "20DU3HmNLbtE",
        "colab": {
          "base_uri": "https://localhost:8080/"
        },
        "outputId": "6374549d-e39e-4128-c5e1-ec02b727a528"
      },
      "execution_count": null,
      "outputs": [
        {
          "output_type": "stream",
          "name": "stdout",
          "text": [
            "꽃받침 면적이 가장 큰 종류 : Iris-virginica\n",
            "꽃잎 면적이 가장 큰 종류 : Iris-virginica\n"
          ]
        }
      ]
    },
    {
      "cell_type": "code",
      "source": [
        "# 문제16 : 데이터 필터링\n",
        "filtered_df = df[(df['SepalWidthCm'] >= 3.0) & (df['PetalWidthCm'] >= 1.5)]\n",
        "\n",
        "print(\"꽃받침 너비가 3.0 이상이고 꽃잎 너비가 1.5 이상인 데이터:\")\n",
        "print(filtered_df)\n",
        "print()\n",
        "\n",
        "print(\" :\")\n",
        "species_counts = filtered_df['Species'].value_counts()\n",
        "\n",
        "if not species_counts.empty:\n",
        "    print(\"해당 데이터들이 주로 해당되는 종류 :\", species_counts.index[0])\n",
        "else:\n",
        "    print(\"해당 조건에 맞는 데이터가 없습니다.\")"
      ],
      "metadata": {
        "id": "tT2kvMSeLeJH",
        "colab": {
          "base_uri": "https://localhost:8080/"
        },
        "outputId": "e48dc2b8-b87f-420f-ce5c-2768deb7e9d0"
      },
      "execution_count": null,
      "outputs": [
        {
          "output_type": "stream",
          "name": "stdout",
          "text": [
            "꽃받침 너비가 3.0 이상이고 꽃잎 너비가 1.5 이상인 데이터:\n",
            "      Id  SepalLengthCm  SepalWidthCm  PetalLengthCm  PetalWidthCm  \\\n",
            "51    52            6.4           3.2            4.5           1.5   \n",
            "52    53            6.9           3.1            4.9           1.5   \n",
            "56    57            6.3           3.3            4.7           1.6   \n",
            "61    62            5.9           3.0            4.2           1.5   \n",
            "66    67            5.6           3.0            4.5           1.5   \n",
            "70    71            5.9           3.2            4.8           1.8   \n",
            "77    78            6.7           3.0            5.0           1.7   \n",
            "84    85            5.4           3.0            4.5           1.5   \n",
            "85    86            6.0           3.4            4.5           1.6   \n",
            "86    87            6.7           3.1            4.7           1.5   \n",
            "100  101            6.3           3.3            6.0           2.5   \n",
            "102  103            7.1           3.0            5.9           2.1   \n",
            "104  105            6.5           3.0            5.8           2.2   \n",
            "105  106            7.6           3.0            6.6           2.1   \n",
            "109  110            7.2           3.6            6.1           2.5   \n",
            "110  111            6.5           3.2            5.1           2.0   \n",
            "112  113            6.8           3.0            5.5           2.1   \n",
            "115  116            6.4           3.2            5.3           2.3   \n",
            "116  117            6.5           3.0            5.5           1.8   \n",
            "117  118            7.7           3.8            6.7           2.2   \n",
            "120  121            6.9           3.2            5.7           2.3   \n",
            "124  125            6.7           3.3            5.7           2.1   \n",
            "125  126            7.2           3.2            6.0           1.8   \n",
            "127  128            6.1           3.0            4.9           1.8   \n",
            "129  130            7.2           3.0            5.8           1.6   \n",
            "131  132            7.9           3.8            6.4           2.0   \n",
            "135  136            7.7           3.0            6.1           2.3   \n",
            "136  137            6.3           3.4            5.6           2.4   \n",
            "137  138            6.4           3.1            5.5           1.8   \n",
            "138  139            6.0           3.0            4.8           1.8   \n",
            "139  140            6.9           3.1            5.4           2.1   \n",
            "140  141            6.7           3.1            5.6           2.4   \n",
            "141  142            6.9           3.1            5.1           2.3   \n",
            "143  144            6.8           3.2            5.9           2.3   \n",
            "144  145            6.7           3.3            5.7           2.5   \n",
            "145  146            6.7           3.0            5.2           2.3   \n",
            "147  148            6.5           3.0            5.2           2.0   \n",
            "148  149            6.2           3.4            5.4           2.3   \n",
            "149  150            5.9           3.0            5.1           1.8   \n",
            "\n",
            "             Species  SepalArea  PetalArea  \n",
            "51   Iris-versicolor      20.48       6.75  \n",
            "52   Iris-versicolor      21.39       7.35  \n",
            "56   Iris-versicolor      20.79       7.52  \n",
            "61   Iris-versicolor      17.70       6.30  \n",
            "66   Iris-versicolor      16.80       6.75  \n",
            "70   Iris-versicolor      18.88       8.64  \n",
            "77   Iris-versicolor      20.10       8.50  \n",
            "84   Iris-versicolor      16.20       6.75  \n",
            "85   Iris-versicolor      20.40       7.20  \n",
            "86   Iris-versicolor      20.77       7.05  \n",
            "100   Iris-virginica      20.79      15.00  \n",
            "102   Iris-virginica      21.30      12.39  \n",
            "104   Iris-virginica      19.50      12.76  \n",
            "105   Iris-virginica      22.80      13.86  \n",
            "109   Iris-virginica      25.92      15.25  \n",
            "110   Iris-virginica      20.80      10.20  \n",
            "112   Iris-virginica      20.40      11.55  \n",
            "115   Iris-virginica      20.48      12.19  \n",
            "116   Iris-virginica      19.50       9.90  \n",
            "117   Iris-virginica      29.26      14.74  \n",
            "120   Iris-virginica      22.08      13.11  \n",
            "124   Iris-virginica      22.11      11.97  \n",
            "125   Iris-virginica      23.04      10.80  \n",
            "127   Iris-virginica      18.30       8.82  \n",
            "129   Iris-virginica      21.60       9.28  \n",
            "131   Iris-virginica      30.02      12.80  \n",
            "135   Iris-virginica      23.10      14.03  \n",
            "136   Iris-virginica      21.42      13.44  \n",
            "137   Iris-virginica      19.84       9.90  \n",
            "138   Iris-virginica      18.00       8.64  \n",
            "139   Iris-virginica      21.39      11.34  \n",
            "140   Iris-virginica      20.77      13.44  \n",
            "141   Iris-virginica      21.39      11.73  \n",
            "143   Iris-virginica      21.76      13.57  \n",
            "144   Iris-virginica      22.11      14.25  \n",
            "145   Iris-virginica      20.10      11.96  \n",
            "147   Iris-virginica      19.50      10.40  \n",
            "148   Iris-virginica      21.08      12.42  \n",
            "149   Iris-virginica      17.70       9.18  \n",
            "\n",
            " :\n",
            "해당 데이터들이 주로 해당되는 종류 : Iris-virginica\n"
          ]
        }
      ]
    },
    {
      "cell_type": "code",
      "source": [
        "# 문제17 : 순위 매기기 (PetalLengthCm에 대하여)\n",
        "top_10_by_petal_length = df.nlargest(10, 'PetalLengthCm')\n",
        "\n",
        "print(\"꽃잎 길이가 긴 상위 10개 데이터의 종류별 개수:\")\n",
        "species_counts_in_top_10 = top_10_by_petal_length['Species'].value_counts()\n",
        "print(species_counts_in_top_10)\n",
        "print()\n",
        "\n",
        "if not species_counts_in_top_10.empty:\n",
        "    most_common_in_top_10 = species_counts_in_top_10.index[0]\n",
        "    print(\"top 10에 가장 많이 포함된 종류:\", most_common_in_top_10)\n",
        "\n",
        "    least_common_in_top_10 = species_counts_in_top_10.index[-1]\n",
        "    print(\"top 10에 가장 적게 포함된 종류:\", least_common_in_top_10)\n",
        "if len(species_counts_in_top_10) == 1:\n",
        "        print(\"top 10에 포함된 종류가 한 가지 뿐입니다.\")\n",
        "\n",
        "else:\n",
        "    print(\"top 10 데이터에 종류 정보가 없습니다.\")"
      ],
      "metadata": {
        "colab": {
          "base_uri": "https://localhost:8080/"
        },
        "id": "tnp1abc6Gc0V",
        "outputId": "174ceeb3-e161-4d54-f892-1604f0d8c01f"
      },
      "execution_count": null,
      "outputs": [
        {
          "output_type": "stream",
          "name": "stdout",
          "text": [
            "꽃잎 길이가 긴 상위 10개 데이터의 종류별 개수:\n",
            "Species\n",
            "Iris-virginica    10\n",
            "Name: count, dtype: int64\n",
            "\n",
            "top 10에 가장 많이 포함된 종류: Iris-virginica\n",
            "top 10에 가장 적게 포함된 종류: Iris-virginica\n",
            "top 10에 포함된 종류가 한 가지 뿐입니다.\n"
          ]
        }
      ]
    }
  ]
}