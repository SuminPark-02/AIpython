{
  "nbformat": 4,
  "nbformat_minor": 0,
  "metadata": {
    "colab": {
      "provenance": []
    },
    "kernelspec": {
      "name": "python3",
      "display_name": "Python 3"
    },
    "language_info": {
      "name": "python"
    }
  },
  "cells": [
    {
      "cell_type": "code",
      "execution_count": 18,
      "metadata": {
        "colab": {
          "base_uri": "https://localhost:8080/"
        },
        "id": "K3XGJnS-dLmk",
        "outputId": "dd312547-bb13-4bc7-9e64-51ac6eb5a498"
      },
      "outputs": [
        {
          "output_type": "stream",
          "name": "stdout",
          "text": [
            "반지름이 5인 원의 면적은 78.5398 입니다.\n"
          ]
        }
      ],
      "source": [
        "# 문제1: 반지름이 5인 원의 면적을 구하시오.\n",
        "\n",
        "r = 5\n",
        "pi = 3.141592\n",
        "\n",
        "result = pi * r * r\n",
        "\n",
        "print(f\"반지름이 {r}인 원의 면적은 {result} 입니다.\")"
      ]
    },
    {
      "cell_type": "code",
      "source": [
        "# 문제2: 분(정수)을 시간과 분으로 변환하여 출력하시오.\n",
        "\n",
        "minutes = 100\n",
        "\n",
        "hour = minutes // 60\n",
        "minute = minutes % 60\n",
        "\n",
        "print(f\"{minutes}분은 {hour}시간 {minute}분 입니다.\")"
      ],
      "metadata": {
        "colab": {
          "base_uri": "https://localhost:8080/"
        },
        "id": "MpupeJDUddjV",
        "outputId": "3636aeae-5ea9-49ea-bcfd-66dc43441d88"
      },
      "execution_count": 14,
      "outputs": [
        {
          "output_type": "stream",
          "name": "stdout",
          "text": [
            "100분은 1시간 40분 입니다.\n"
          ]
        }
      ]
    }
  ]
}