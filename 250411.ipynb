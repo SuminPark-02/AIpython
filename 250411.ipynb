{
  "nbformat": 4,
  "nbformat_minor": 0,
  "metadata": {
    "colab": {
      "provenance": [],
      "authorship_tag": "ABX9TyNZUrSv21z9pEZzJa+QhEJs",
      "include_colab_link": true
    },
    "kernelspec": {
      "name": "python3",
      "display_name": "Python 3"
    },
    "language_info": {
      "name": "python"
    }
  },
  "cells": [
    {
      "cell_type": "markdown",
      "metadata": {
        "id": "view-in-github",
        "colab_type": "text"
      },
      "source": [
        "<a href=\"https://colab.research.google.com/github/SuminPark-02/AIpython/blob/main/250411.ipynb\" target=\"_parent\"><img src=\"https://colab.research.google.com/assets/colab-badge.svg\" alt=\"Open In Colab\"/></a>"
      ]
    },
    {
      "cell_type": "markdown",
      "source": [
        "# 문자열"
      ],
      "metadata": {
        "id": "awmWjNGRbgeS"
      }
    },
    {
      "cell_type": "code",
      "execution_count": 7,
      "metadata": {
        "colab": {
          "base_uri": "https://localhost:8080/"
        },
        "id": "c1bJ7x4oX7VO",
        "outputId": "cf9d17b3-826d-44d7-f112-34fe32536924"
      },
      "outputs": [
        {
          "output_type": "stream",
          "name": "stdout",
          "text": [
            "여자\n"
          ]
        }
      ],
      "source": [
        "# 주민등록번호 남여 판별하기\n",
        "id = '250411-4301039'\n",
        "\n",
        "if id[7] == '3':\n",
        "  print('남자')\n",
        "else:\n",
        "  print('여자')"
      ]
    },
    {
      "cell_type": "code",
      "source": [
        "# 문자열 거꾸로 출력하기\n",
        "s = input('문자열: ')\n",
        "for i in range(len(s)-1, -1, -1):\n",
        "  print(s[i], end = '')"
      ],
      "metadata": {
        "colab": {
          "base_uri": "https://localhost:8080/"
        },
        "id": "rJd5wJEkihl8",
        "outputId": "7be5fea5-47c6-41bc-b42d-1e7d883e8562"
      },
      "execution_count": 8,
      "outputs": [
        {
          "output_type": "stream",
          "name": "stdout",
          "text": [
            "문자열: abc\n",
            "cba"
          ]
        }
      ]
    },
    {
      "cell_type": "code",
      "source": [
        "# 회문 판별하기\n",
        "s1 = input('문자열: ')\n",
        "s2 = ''\n",
        "\n",
        "for i in range(len(s1)-1, -1, -1):\n",
        "  s2 = s2 + s1[i]\n",
        "\n",
        "if s1 == s2:\n",
        "  print('회문')\n",
        "else:\n",
        "  print('회문아님')"
      ],
      "metadata": {
        "colab": {
          "base_uri": "https://localhost:8080/"
        },
        "id": "yB-iyWxZi2nx",
        "outputId": "aa0cc589-bb1e-4047-f1e6-83edd3e7108a"
      },
      "execution_count": 15,
      "outputs": [
        {
          "output_type": "stream",
          "name": "stdout",
          "text": [
            "문자열: aba\n",
            "회문\n"
          ]
        }
      ]
    },
    {
      "cell_type": "code",
      "source": [
        "# 주소 분리 / 구분하기\n",
        "s = '부산시 금정구'\n",
        "\n",
        "separated = s.split(' ')\n",
        "print(separated)\n",
        "print(' / '.join(separated))"
      ],
      "metadata": {
        "colab": {
          "base_uri": "https://localhost:8080/"
        },
        "id": "STKv0gXVlA2E",
        "outputId": "dec80b09-c859-4c33-9b4a-a5a067a71e0f"
      },
      "execution_count": 28,
      "outputs": [
        {
          "output_type": "stream",
          "name": "stdout",
          "text": [
            "['부산시', '금정구']\n",
            "부산시 / 금정구\n"
          ]
        }
      ]
    },
    {
      "cell_type": "code",
      "source": [
        "# 비밀번호 설정하기\n",
        "pw = input('알파벳과 숫자로만 이루어진 비밀번호를 입력해주세요: ')\n",
        "while True:\n",
        "  if (pw.isalnum() == True) and (pw.isdigit() == False) and (pw.isalpha() == False):\n",
        "    break\n",
        "  else:\n",
        "    pw = input('다시 입력해주세요: ')\n",
        "print(f'비밀번호가 {pw}로 설정되었습니다.')"
      ],
      "metadata": {
        "colab": {
          "base_uri": "https://localhost:8080/"
        },
        "id": "R4VnNkaOqMk9",
        "outputId": "2997c28e-dbc2-48d9-d16c-d87401a44034"
      },
      "execution_count": 34,
      "outputs": [
        {
          "output_type": "stream",
          "name": "stdout",
          "text": [
            "알파벳과 숫자로만 이루어진 비밀번호를 입력해주세요: aaaa\n",
            "다시 입력해주세요: 1111\n",
            "다시 입력해주세요: aa  11\n",
            "다시 입력해주세요: aa11\n",
            "비밀번호가 aa11로 설정되었습니다.\n"
          ]
        }
      ]
    }
  ]
}