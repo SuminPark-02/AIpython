{
  "nbformat": 4,
  "nbformat_minor": 0,
  "metadata": {
    "colab": {
      "provenance": [],
      "authorship_tag": "ABX9TyNSP1Lp43EyOXxA2b7tI9iN",
      "include_colab_link": true
    },
    "kernelspec": {
      "name": "python3",
      "display_name": "Python 3"
    },
    "language_info": {
      "name": "python"
    }
  },
  "cells": [
    {
      "cell_type": "markdown",
      "metadata": {
        "id": "view-in-github",
        "colab_type": "text"
      },
      "source": [
        "<a href=\"https://colab.research.google.com/github/SuminPark-02/AIpython/blob/main/250404.ipynb\" target=\"_parent\"><img src=\"https://colab.research.google.com/assets/colab-badge.svg\" alt=\"Open In Colab\"/></a>"
      ]
    },
    {
      "cell_type": "markdown",
      "source": [
        "# 조건문 / 반복문"
      ],
      "metadata": {
        "id": "weXbIZiUhuj8"
      }
    },
    {
      "cell_type": "code",
      "execution_count": null,
      "metadata": {
        "colab": {
          "base_uri": "https://localhost:8080/"
        },
        "id": "eUGP1jooVSmx",
        "outputId": "c98fc5dd-44cf-457f-d5cb-352a00789dcf"
      },
      "outputs": [
        {
          "output_type": "stream",
          "name": "stdout",
          "text": [
            "온도 종류(섭씨 또는 화씨): 화씨\n",
            "화씨 온도: 68\n",
            "섭씨 온도 20.00\n"
          ]
        }
      ],
      "source": [
        "# 온도 변환기\n",
        "kind = input(\"온도 종류(섭씨 또는 화씨): \")\n",
        "temp = int(input(kind+\" 온도: \"))\n",
        "\n",
        "if kind == \"섭씨\":\n",
        "  print('화씨 온도 %.2f'%(temp*9/5+32))\n",
        "else:\n",
        "  print('섭씨 온도 %.2f'%((temp-32)*5/9))"
      ]
    },
    {
      "cell_type": "code",
      "source": [
        "# 숫자 맞히기 게임\n",
        "import random\n",
        "\n",
        "answer = random.randint(1, 100)\n",
        "times = 0\n",
        "\n",
        "print(\"1부터 100까지의 수 하나를 정했습니다.\")\n",
        "print(\"이 숫자를 맞혀보세요.\")\n",
        "print(\"정답 :\", answer)\n",
        "\n",
        "while True:\n",
        "  user = int(input(\"1~100 숫자 입력: \"))\n",
        "  times += 1\n",
        "  if user == answer:\n",
        "    break\n",
        "  elif user <answer:\n",
        "    print(f'{user}보다 큽니다.')\n",
        "  else:\n",
        "    print(f'{user}보다 작습니다.')\n",
        "\n",
        "print(f'정답입니다! {times}회 만에 맞혔습니다.')"
      ],
      "metadata": {
        "colab": {
          "base_uri": "https://localhost:8080/"
        },
        "id": "OiK9EvNpihqK",
        "outputId": "fa569e9c-0009-4705-863c-7b274b9eed93"
      },
      "execution_count": 91,
      "outputs": [
        {
          "output_type": "stream",
          "name": "stdout",
          "text": [
            "1부터 100까지의 수 하나를 정했습니다.\n",
            "이 숫자를 맞혀보세요.\n",
            "정답 : 55\n",
            "1~100 숫자 입력: 50\n",
            "50보다 큽니다.\n",
            "1~100 숫자 입력: 75\n",
            "75보다 작습니다.\n",
            "1~100 숫자 입력: 55\n",
            "정답입니다! 3회 만에 맞혔습니다.\n"
          ]
        }
      ]
    },
    {
      "cell_type": "markdown",
      "source": [
        "# 랜덤"
      ],
      "metadata": {
        "id": "l-qr9Wgkhye0"
      }
    },
    {
      "cell_type": "code",
      "source": [
        "# 로또 번호 만들기 - 중복 방지 안됨\n",
        "import random\n",
        "\n",
        "num = []\n",
        "\n",
        "for i in range(6):\n",
        "  r = random.randint(1, 45)\n",
        "  num.append(r)\n",
        "\n",
        "print(num)"
      ],
      "metadata": {
        "colab": {
          "base_uri": "https://localhost:8080/"
        },
        "id": "RevB7DcvgKqw",
        "outputId": "70a59ddc-72ef-4135-8ce5-be2864c39d58"
      },
      "execution_count": null,
      "outputs": [
        {
          "output_type": "stream",
          "name": "stdout",
          "text": [
            "[7, 38, 25, 7, 39, 26]\n"
          ]
        }
      ]
    },
    {
      "cell_type": "code",
      "source": [
        "# 로또 번호 만들기 - 중복 방지\n",
        "import random\n",
        "\n",
        "num = []\n",
        "count = 0\n",
        "\n",
        "while count < 6:\n",
        "  r = random.randint(1, 45)\n",
        "  if not(r in num):\n",
        "    num.append(r)\n",
        "    count += 1\n",
        "\n",
        "print(num)"
      ],
      "metadata": {
        "colab": {
          "base_uri": "https://localhost:8080/"
        },
        "id": "20QPZeeKuZIu",
        "outputId": "9bb31332-97b4-49b4-eaf0-a92579dae99f"
      },
      "execution_count": null,
      "outputs": [
        {
          "output_type": "stream",
          "name": "stdout",
          "text": [
            "[26, 11, 34, 9, 4, 27]\n"
          ]
        }
      ]
    },
    {
      "cell_type": "markdown",
      "source": [
        "# 리스트"
      ],
      "metadata": {
        "id": "SMWyblGgy6lr"
      }
    },
    {
      "cell_type": "code",
      "source": [
        "# 학생 성적 평균 계산하기 - sum(), len() 함수 사용 X\n",
        "성적 = [85, 92, 78, 90, 87]\n",
        "합계 = 0\n",
        "과목수 = 0\n",
        "\n",
        "for 점수 in 성적:\n",
        "  합계 += 점수\n",
        "  과목수 += 1\n",
        "\n",
        "평균 = 합계 / 과목수\n",
        "print(평균)"
      ],
      "metadata": {
        "colab": {
          "base_uri": "https://localhost:8080/"
        },
        "id": "PD8Yl-_gl5Kc",
        "outputId": "3e65a830-5e79-4710-99e8-6fc80d9d5805"
      },
      "execution_count": null,
      "outputs": [
        {
          "output_type": "stream",
          "name": "stdout",
          "text": [
            "86.4\n"
          ]
        }
      ]
    },
    {
      "cell_type": "code",
      "source": [
        "# 학생 성적 평균 계산하기 - sum(), len() 함수 사용\n",
        "성적 = [85, 92, 78, 90, 87]\n",
        "\n",
        "평균 = sum(성적) / len(성적)\n",
        "print(평균)"
      ],
      "metadata": {
        "colab": {
          "base_uri": "https://localhost:8080/"
        },
        "id": "eg-53cxTys5r",
        "outputId": "26a921fe-1a77-4466-a441-5d885d8213b0"
      },
      "execution_count": null,
      "outputs": [
        {
          "output_type": "stream",
          "name": "stdout",
          "text": [
            "86.4\n"
          ]
        }
      ]
    },
    {
      "cell_type": "code",
      "source": [
        "학생들 = [(\"철수\", 85), (\"영희\", 92), (\"민수\", 65), (\"지영\", 78)]\n",
        "합격자 = []\n",
        "\n",
        "for 학생, 점수 in 학생들:\n",
        "    if 점수 >= 70:\n",
        "        합격자.append(학생)\n",
        "\n",
        "print(합격자)"
      ],
      "metadata": {
        "colab": {
          "base_uri": "https://localhost:8080/"
        },
        "id": "_nkDwLwAzLOI",
        "outputId": "fd0db1c0-c447-4909-d119-6b14cdc3edae"
      },
      "execution_count": null,
      "outputs": [
        {
          "output_type": "stream",
          "name": "stdout",
          "text": [
            "['철수', '영희', '지영']\n"
          ]
        }
      ]
    },
    {
      "cell_type": "code",
      "source": [
        "숫자들 = [1, 2, 2, 3, 4, 4, 5, 5, 5]\n",
        "중복제거 = list(set(숫자들))\n",
        "\n",
        "print(중복제거)"
      ],
      "metadata": {
        "colab": {
          "base_uri": "https://localhost:8080/"
        },
        "id": "K39RQJ_xzOn4",
        "outputId": "c75ce95b-146e-461e-8aee-8e4d282a1650"
      },
      "execution_count": null,
      "outputs": [
        {
          "output_type": "stream",
          "name": "stdout",
          "text": [
            "[1, 2, 3, 4, 5]\n"
          ]
        }
      ]
    },
    {
      "cell_type": "code",
      "source": [
        "# 리스트 생성 및 요소 접근 / 요소 추가 및 삭제\n",
        "fruits = [\"사과\", \"바나나\", \"딸기\", \"포도\"]\n",
        "print(f\"원래 리스트: {fruits}\")\n",
        "\n",
        "first_fruit = fruits[0]\n",
        "print(f\"첫 번째 과일: {first_fruit}\")\n",
        "\n",
        "last_fruit = fruits[-1]\n",
        "print(f\"마지막 과일: {last_fruit}\")\n",
        "\n",
        "fruits.append(\"오렌지\")\n",
        "print(f\"요소 추가 후: {fruits}\")\n",
        "\n",
        "fruits.remove(\"바나나\")\n",
        "print(f\"요소 삭제 후: {fruits}\")"
      ],
      "metadata": {
        "colab": {
          "base_uri": "https://localhost:8080/"
        },
        "id": "UaAc-cjWzTEQ",
        "outputId": "9b1a19b9-dda2-4428-c1d9-e0ef669dc248"
      },
      "execution_count": null,
      "outputs": [
        {
          "output_type": "stream",
          "name": "stdout",
          "text": [
            "원래 리스트: ['사과', '바나나', '딸기', '포도']\n",
            "첫 번째 과일: 사과\n",
            "마지막 과일: 포도\n",
            "요소 추가 후: ['사과', '바나나', '딸기', '포도', '오렌지']\n",
            "요소 삭제 후: ['사과', '딸기', '포도', '오렌지']\n"
          ]
        }
      ]
    },
    {
      "cell_type": "code",
      "source": [
        "# 리스트 요소 순회하며 출력\n",
        "numbers = [1, 5, 12, 8, 21]\n",
        "\n",
        "for num in numbers:\n",
        "  print(num)"
      ],
      "metadata": {
        "colab": {
          "base_uri": "https://localhost:8080/"
        },
        "id": "loaGzU2Czohb",
        "outputId": "e3acb371-5b0f-4416-a7dd-ee32f82c0f4a"
      },
      "execution_count": null,
      "outputs": [
        {
          "output_type": "stream",
          "name": "stdout",
          "text": [
            "1\n",
            "5\n",
            "12\n",
            "8\n",
            "21\n"
          ]
        }
      ]
    },
    {
      "cell_type": "code",
      "source": [
        "# 리스트 요소 값 변경\n",
        "colors = [\"빨강\", \"초록\", \"파랑\"]\n",
        "print(colors)\n",
        "\n",
        "colors[1] = \"노랑\"\n",
        "print(colors)"
      ],
      "metadata": {
        "colab": {
          "base_uri": "https://localhost:8080/"
        },
        "id": "ePGWoacIzu-a",
        "outputId": "2b8a063c-918f-4c50-bfbb-f452ee2da05d"
      },
      "execution_count": null,
      "outputs": [
        {
          "output_type": "stream",
          "name": "stdout",
          "text": [
            "['빨강', '초록', '파랑']\n",
            "['빨강', '노랑', '파랑']\n"
          ]
        }
      ]
    },
    {
      "cell_type": "code",
      "source": [
        "# 두 개의 리스트 합치기\n",
        "list1 = [1, 2, 3]\n",
        "list2 = [4, 5, 6]\n",
        "\n",
        "combined_list_plus = list1 + list2\n",
        "print(combined_list_plus)\n",
        "\n",
        "list1.extend(list2)\n",
        "print(list1)"
      ],
      "metadata": {
        "colab": {
          "base_uri": "https://localhost:8080/"
        },
        "id": "t10wEsdHz6HK",
        "outputId": "731a998b-eeeb-465b-c1de-7438f9efe420"
      },
      "execution_count": null,
      "outputs": [
        {
          "output_type": "stream",
          "name": "stdout",
          "text": [
            "[1, 2, 3, 4, 5, 6]\n",
            "[1, 2, 3, 4, 5, 6]\n"
          ]
        }
      ]
    }
  ]
}