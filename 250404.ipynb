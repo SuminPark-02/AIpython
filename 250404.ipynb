{
  "nbformat": 4,
  "nbformat_minor": 0,
  "metadata": {
    "colab": {
      "provenance": [],
      "authorship_tag": "ABX9TyN/EzGuPsD/Nk+U+jgCLmaX",
      "include_colab_link": true
    },
    "kernelspec": {
      "name": "python3",
      "display_name": "Python 3"
    },
    "language_info": {
      "name": "python"
    }
  },
  "cells": [
    {
      "cell_type": "markdown",
      "metadata": {
        "id": "view-in-github",
        "colab_type": "text"
      },
      "source": [
        "<a href=\"https://colab.research.google.com/github/SuminPark-02/AIpython/blob/main/250404.ipynb\" target=\"_parent\"><img src=\"https://colab.research.google.com/assets/colab-badge.svg\" alt=\"Open In Colab\"/></a>"
      ]
    },
    {
      "cell_type": "markdown",
      "source": [
        "# 조건문 / 반복문"
      ],
      "metadata": {
        "id": "8HEvRWExmPNG"
      }
    },
    {
      "cell_type": "code",
      "execution_count": null,
      "metadata": {
        "colab": {
          "base_uri": "https://localhost:8080/"
        },
        "id": "X6ZQh3GzmN00",
        "outputId": "c6796d3f-7891-4e68-c570-90b367c02eca"
      },
      "outputs": [
        {
          "output_type": "stream",
          "name": "stdout",
          "text": [
            "온도 종류(섭씨 또는 화씨): 화씨\n",
            "화씨 온도: 68\n",
            "섭씨 온도 20.00\n"
          ]
        }
      ],
      "source": [
        "# 온도 변환기\n",
        "kind = input(\"온도 종류(섭씨 또는 화씨): \")\n",
        "temp = int(input(kind+\" 온도: \"))\n",
        "\n",
        "if kind == \"섭씨\":\n",
        "  print('화씨 온도 %.2f'%(temp*9/5+32))\n",
        "else:\n",
        "  print('섭씨 온도 %.2f'%((temp-32)*5/9))"
      ]
    },
    {
      "cell_type": "code",
      "source": [
        "# 숫자 맞히기 게임\n",
        "import random\n",
        "\n",
        "answer = random.randint(1, 100)\n",
        "times = 0\n",
        "\n",
        "print(\"1부터 100까지의 수 하나를 정했습니다.\")\n",
        "print(\"이 숫자를 맞혀보세요.\")\n",
        "print(\"정답 :\", answer)\n",
        "\n",
        "while True:\n",
        "  user = int(input(\"1~100 숫자 입력: \"))\n",
        "  times += 1\n",
        "  if user == answer:\n",
        "    break\n",
        "  elif user < answer:\n",
        "    print(f'{user}보다 큽니다.')\n",
        "  else:\n",
        "    print(f'{user}보다 작습니다.')\n",
        "\n",
        "print(f'정답입니다! {times}회 만에 맞혔습니다.')"
      ],
      "metadata": {
        "colab": {
          "base_uri": "https://localhost:8080/"
        },
        "id": "xwFAgjKcmZvh",
        "outputId": "9267ca26-b837-48a5-b03d-acc37c3279e1"
      },
      "execution_count": null,
      "outputs": [
        {
          "output_type": "stream",
          "name": "stdout",
          "text": [
            "1부터 100까지의 수 하나를 정했습니다.\n",
            "이 숫자를 맞혀보세요.\n",
            "정답 : 60\n",
            "1~100 숫자 입력: 50\n",
            "50보다 큽니다.\n",
            "1~100 숫자 입력: 75\n",
            "75보다 작습니다.\n",
            "1~100 숫자 입력: 60\n",
            "정답입니다! 3회 만에 맞혔습니다.\n"
          ]
        }
      ]
    },
    {
      "cell_type": "markdown",
      "source": [
        "# 랜덤"
      ],
      "metadata": {
        "id": "aF6Ua_HfmlFa"
      }
    },
    {
      "cell_type": "code",
      "source": [
        "# 로또 번호 만들기 - 중복 방지 안됨\n",
        "import random\n",
        "\n",
        "num = []\n",
        "\n",
        "for i in range(6):\n",
        "  r = random.randint(1, 45)\n",
        "  num.append(r)\n",
        "\n",
        "print(num)"
      ],
      "metadata": {
        "colab": {
          "base_uri": "https://localhost:8080/"
        },
        "id": "BY_5-n8FmmmM",
        "outputId": "27daaf54-211e-4722-be0e-1e886b9f8a9d"
      },
      "execution_count": null,
      "outputs": [
        {
          "output_type": "stream",
          "name": "stdout",
          "text": [
            "[1, 29, 16, 30, 13, 13]\n"
          ]
        }
      ]
    },
    {
      "cell_type": "code",
      "source": [
        "# 로또 번호 만들기 - 중복 방지\n",
        "import random\n",
        "\n",
        "num = []\n",
        "\n",
        "while len(num) < 6:\n",
        "  r = random.randint(1, 45)\n",
        "  if not(r in num):\n",
        "    num.append(r)\n",
        "\n",
        "print(num)"
      ],
      "metadata": {
        "colab": {
          "base_uri": "https://localhost:8080/"
        },
        "id": "LDO_8PRNmpVh",
        "outputId": "02002946-9c2f-446b-ae68-febe920ca324"
      },
      "execution_count": null,
      "outputs": [
        {
          "output_type": "stream",
          "name": "stdout",
          "text": [
            "[36, 2, 3, 35, 24, 8]\n"
          ]
        }
      ]
    },
    {
      "cell_type": "markdown",
      "source": [
        "# 리스트"
      ],
      "metadata": {
        "id": "q4D1AKCMmsQC"
      }
    },
    {
      "cell_type": "code",
      "source": [
        "# 학생 성적 평균 계산하기 - sum(), len() 함수 사용 X\n",
        "성적 = [85, 92, 78, 90, 87]\n",
        "합계 = 0\n",
        "과목수 = 0\n",
        "\n",
        "for 점수 in 성적:\n",
        "  합계 += 점수\n",
        "  과목수 += 1\n",
        "\n",
        "평균 = 합계 / 과목수\n",
        "print(평균)"
      ],
      "metadata": {
        "colab": {
          "base_uri": "https://localhost:8080/"
        },
        "id": "7V4OD0NvmrfK",
        "outputId": "c884bf53-d5b0-41a6-9471-5672e87187ea"
      },
      "execution_count": null,
      "outputs": [
        {
          "output_type": "stream",
          "name": "stdout",
          "text": [
            "86.4\n"
          ]
        }
      ]
    },
    {
      "cell_type": "code",
      "source": [
        "# 학생 성적 평균 계산하기 - sum(), len() 함수 사용\n",
        "성적 = [85, 92, 78, 90, 87]\n",
        "\n",
        "평균 = sum(성적) / len(성적)\n",
        "print(평균)"
      ],
      "metadata": {
        "colab": {
          "base_uri": "https://localhost:8080/"
        },
        "id": "m8-WvIPXmvFp",
        "outputId": "798c0485-aef3-4e44-af3b-165f4c033303"
      },
      "execution_count": null,
      "outputs": [
        {
          "output_type": "stream",
          "name": "stdout",
          "text": [
            "86.4\n"
          ]
        }
      ]
    },
    {
      "cell_type": "code",
      "source": [
        "학생들 = [(\"철수\", 85), (\"영희\", 92), (\"민수\", 65), (\"지영\", 78)]\n",
        "합격자 = []\n",
        "\n",
        "for 학생, 점수 in 학생들:\n",
        "    if 점수 >= 70:\n",
        "        합격자.append(학생)\n",
        "\n",
        "print(합격자)"
      ],
      "metadata": {
        "colab": {
          "base_uri": "https://localhost:8080/"
        },
        "id": "Kh8f-dovmw8-",
        "outputId": "c428571d-b45d-4e4f-893e-47965f88de92"
      },
      "execution_count": null,
      "outputs": [
        {
          "output_type": "stream",
          "name": "stdout",
          "text": [
            "['철수', '영희', '지영']\n"
          ]
        }
      ]
    },
    {
      "cell_type": "code",
      "source": [
        "숫자들 = [1, 2, 2, 3, 4, 4, 5, 5, 5]\n",
        "중복제거 = list(set(숫자들))\n",
        "\n",
        "print(중복제거)"
      ],
      "metadata": {
        "colab": {
          "base_uri": "https://localhost:8080/"
        },
        "id": "rG8kcshsmzAC",
        "outputId": "3cafc2d6-0120-4a84-a680-cd1a16fbb017"
      },
      "execution_count": null,
      "outputs": [
        {
          "output_type": "stream",
          "name": "stdout",
          "text": [
            "[1, 2, 3, 4, 5]\n"
          ]
        }
      ]
    },
    {
      "cell_type": "code",
      "source": [
        "# 리스트 생성 및 요소 접근 / 요소 추가 및 삭제\n",
        "fruits = [\"사과\", \"바나나\", \"딸기\", \"포도\"]\n",
        "print(f\"원래 리스트: {fruits}\")\n",
        "\n",
        "first_fruit = fruits[0]\n",
        "print(f\"첫 번째 과일: {first_fruit}\")\n",
        "\n",
        "last_fruit = fruits[-1]\n",
        "print(f\"마지막 과일: {last_fruit}\")\n",
        "\n",
        "fruits.append(\"오렌지\")\n",
        "print(f\"요소 추가 후: {fruits}\")\n",
        "\n",
        "fruits.remove(\"바나나\")\n",
        "print(f\"요소 삭제 후: {fruits}\")"
      ],
      "metadata": {
        "colab": {
          "base_uri": "https://localhost:8080/"
        },
        "id": "6G3IXWZjm0yU",
        "outputId": "f58901c5-0775-4954-84d6-7c48fc772247"
      },
      "execution_count": null,
      "outputs": [
        {
          "output_type": "stream",
          "name": "stdout",
          "text": [
            "원래 리스트: ['사과', '바나나', '딸기', '포도']\n",
            "첫 번째 과일: 사과\n",
            "마지막 과일: 포도\n",
            "요소 추가 후: ['사과', '바나나', '딸기', '포도', '오렌지']\n",
            "요소 삭제 후: ['사과', '딸기', '포도', '오렌지']\n"
          ]
        }
      ]
    },
    {
      "cell_type": "code",
      "source": [
        "# 리스트 요소 순회하며 출력\n",
        "numbers = [1, 5, 12, 8, 21]\n",
        "\n",
        "for num in numbers:\n",
        "  print(num)"
      ],
      "metadata": {
        "colab": {
          "base_uri": "https://localhost:8080/"
        },
        "id": "EOKhoFytm27l",
        "outputId": "ce4650a7-2646-4987-f7e7-541949d5cf56"
      },
      "execution_count": null,
      "outputs": [
        {
          "output_type": "stream",
          "name": "stdout",
          "text": [
            "1\n",
            "5\n",
            "12\n",
            "8\n",
            "21\n"
          ]
        }
      ]
    },
    {
      "cell_type": "code",
      "source": [
        "# 리스트 요소 값 변경\n",
        "colors = [\"빨강\", \"초록\", \"파랑\"]\n",
        "print(colors)\n",
        "\n",
        "colors[1] = \"노랑\"\n",
        "print(colors)"
      ],
      "metadata": {
        "colab": {
          "base_uri": "https://localhost:8080/"
        },
        "id": "6sSaKbAVm5iu",
        "outputId": "1950ec49-706b-4841-c8c5-b3a550a03938"
      },
      "execution_count": null,
      "outputs": [
        {
          "output_type": "stream",
          "name": "stdout",
          "text": [
            "['빨강', '초록', '파랑']\n",
            "['빨강', '노랑', '파랑']\n"
          ]
        }
      ]
    },
    {
      "cell_type": "code",
      "source": [
        "# 두 개의 리스트 합치기\n",
        "list1 = [1, 2, 3]\n",
        "list2 = [4, 5, 6]\n",
        "\n",
        "combined_list_plus = list1 + list2\n",
        "print(combined_list_plus)\n",
        "\n",
        "list1.extend(list2)\n",
        "print(list1)"
      ],
      "metadata": {
        "colab": {
          "base_uri": "https://localhost:8080/"
        },
        "id": "8nI6SQJam7ea",
        "outputId": "098dbf0f-7dbe-41de-c2eb-da2a9c3e4c7f"
      },
      "execution_count": null,
      "outputs": [
        {
          "output_type": "stream",
          "name": "stdout",
          "text": [
            "[1, 2, 3, 4, 5, 6]\n",
            "[1, 2, 3, 4, 5, 6]\n"
          ]
        }
      ]
    }
  ]
}