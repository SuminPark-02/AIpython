{
  "nbformat": 4,
  "nbformat_minor": 0,
  "metadata": {
    "colab": {
      "provenance": [],
      "authorship_tag": "ABX9TyPnefbLwCKAJPoo6DpdwT+p",
      "include_colab_link": true
    },
    "kernelspec": {
      "name": "python3",
      "display_name": "Python 3"
    },
    "language_info": {
      "name": "python"
    }
  },
  "cells": [
    {
      "cell_type": "markdown",
      "metadata": {
        "id": "view-in-github",
        "colab_type": "text"
      },
      "source": [
        "<a href=\"https://colab.research.google.com/github/SuminPark-02/AIpython/blob/main/250523.ipynb\" target=\"_parent\"><img src=\"https://colab.research.google.com/assets/colab-badge.svg\" alt=\"Open In Colab\"/></a>"
      ]
    },
    {
      "cell_type": "code",
      "source": [
        "import numpy as np\n",
        "import pandas as pd"
      ],
      "metadata": {
        "id": "lOv59TPL7HFF"
      },
      "execution_count": 1,
      "outputs": []
    },
    {
      "cell_type": "code",
      "source": [
        "import matplotlib.pyplot as plt\n",
        "import matplotlib as mpl\n",
        "import matplotlib.font_manager as fm\n",
        "\n",
        "# 폰트 설치 (나눔고딕)\n",
        "!sudo apt-get install -y fonts-nanum\n",
        "!sudo fc-cache -fv\n",
        "!rm ~/.cache/matplotlib -rf\n",
        "\n",
        "# 런타임 재시작 필요\n",
        "# 폰트 설정\n",
        "mpl.rc('font', family='NanumGothic')\n",
        "mpl.rc('axes', unicode_minus=False) # 마이너스 폰트 깨짐 방지\n",
        "\n",
        "# 설치된 폰트 확인 (선택 사항)\n",
        "# font_list = [f.name for f in fm.fontManager.ttflist]\n",
        "# print(font_list)"
      ],
      "metadata": {
        "colab": {
          "base_uri": "https://localhost:8080/"
        },
        "id": "DGz2TcDqEO0m",
        "outputId": "12ff1b4d-799d-4d9f-db35-81f4901e1bb0"
      },
      "execution_count": 10,
      "outputs": [
        {
          "output_type": "stream",
          "name": "stdout",
          "text": [
            "Reading package lists... Done\n",
            "Building dependency tree... Done\n",
            "Reading state information... Done\n",
            "fonts-nanum is already the newest version (20200506-1).\n",
            "0 upgraded, 0 newly installed, 0 to remove and 34 not upgraded.\n",
            "/usr/share/fonts: caching, new cache contents: 0 fonts, 1 dirs\n",
            "/usr/share/fonts/truetype: caching, new cache contents: 0 fonts, 3 dirs\n",
            "/usr/share/fonts/truetype/humor-sans: caching, new cache contents: 1 fonts, 0 dirs\n",
            "/usr/share/fonts/truetype/liberation: caching, new cache contents: 16 fonts, 0 dirs\n",
            "/usr/share/fonts/truetype/nanum: caching, new cache contents: 12 fonts, 0 dirs\n",
            "/usr/local/share/fonts: caching, new cache contents: 0 fonts, 0 dirs\n",
            "/root/.local/share/fonts: skipping, no such directory\n",
            "/root/.fonts: skipping, no such directory\n",
            "/usr/share/fonts/truetype: skipping, looped directory detected\n",
            "/usr/share/fonts/truetype/humor-sans: skipping, looped directory detected\n",
            "/usr/share/fonts/truetype/liberation: skipping, looped directory detected\n",
            "/usr/share/fonts/truetype/nanum: skipping, looped directory detected\n",
            "/var/cache/fontconfig: cleaning cache directory\n",
            "/root/.cache/fontconfig: not cleaning non-existent cache directory\n",
            "/root/.fontconfig: not cleaning non-existent cache directory\n",
            "fc-cache: succeeded\n"
          ]
        }
      ]
    },
    {
      "cell_type": "markdown",
      "source": [
        "# 실습문제"
      ],
      "metadata": {
        "id": "dLwQZmpB8Ed0"
      }
    },
    {
      "cell_type": "code",
      "source": [
        "# 1\n",
        "df = pd.read_csv('example_data.csv')\n",
        "\n",
        "print(\"문제1 : 데이터프레임\")\n",
        "print(df)"
      ],
      "metadata": {
        "colab": {
          "base_uri": "https://localhost:8080/"
        },
        "id": "f6Q-rrZ-7Jz8",
        "outputId": "880ba045-e8d9-4d32-a732-76ba3a1cfd91"
      },
      "execution_count": 89,
      "outputs": [
        {
          "output_type": "stream",
          "name": "stdout",
          "text": [
            "문제1 : 데이터프레임\n",
            "    학번    이름   학년   점수 분반  공부시간\n",
            "0    1  신사임당  NaN   69  B     4\n",
            "1    2   홍길동  1.0   92  B     3\n",
            "2    3   강감찬  4.0   91  C    20\n",
            "3    4   강감찬  2.0   70  C     5\n",
            "4    5   강감찬  3.0   83  C     5\n",
            "5    6   이순신  4.0   95  A     0\n",
            "6    7   강감찬  4.0   71  C     1\n",
            "7    8   김유신  NaN   88  B     5\n",
            "8    9  신사임당  3.0   94  A     9\n",
            "9   10   홍길동  NaN   60  B     3\n",
            "10  11   NaN  1.0  200  C     0\n",
            "11  12  신사임당  2.0   96  A    20\n",
            "12  13   김유신  4.0   65  A     0\n",
            "13  14   NaN  2.0   98  C     1\n",
            "14  15   홍길동  4.0   77  A     2\n",
            "15  16   이순신  4.0   75  A     4\n",
            "16  17   NaN  3.0   64  A     2\n",
            "17  18   홍길동  4.0   91  A     0\n",
            "18  19   이순신  1.0  200  A     3\n",
            "19  20  신사임당  2.0   61  A     2\n",
            "20  20  신사임당  2.0   61  A     2\n"
          ]
        }
      ]
    },
    {
      "cell_type": "code",
      "source": [
        "# 2\n",
        "print(\"문제2 : 데이터프레임 정보 요약\")\n",
        "print(df.info())"
      ],
      "metadata": {
        "colab": {
          "base_uri": "https://localhost:8080/"
        },
        "id": "ai7Osrvb7i_7",
        "outputId": "1cdf97c5-cc2f-43eb-be32-f5285ddd1ee2"
      },
      "execution_count": 3,
      "outputs": [
        {
          "output_type": "stream",
          "name": "stdout",
          "text": [
            "문제2 : 데이터프레임 정보 요약\n",
            "<class 'pandas.core.frame.DataFrame'>\n",
            "RangeIndex: 21 entries, 0 to 20\n",
            "Data columns (total 6 columns):\n",
            " #   Column  Non-Null Count  Dtype  \n",
            "---  ------  --------------  -----  \n",
            " 0   학번      21 non-null     int64  \n",
            " 1   이름      18 non-null     object \n",
            " 2   학년      18 non-null     float64\n",
            " 3   점수      21 non-null     int64  \n",
            " 4   분반      21 non-null     object \n",
            " 5   공부시간    21 non-null     int64  \n",
            "dtypes: float64(1), int64(3), object(2)\n",
            "memory usage: 1.1+ KB\n",
            "None\n"
          ]
        }
      ]
    },
    {
      "cell_type": "code",
      "source": [
        "# 3\n",
        "print(\"문제3 : 숫자형 데이터 기술 통계량\")\n",
        "print(df.describe())"
      ],
      "metadata": {
        "colab": {
          "base_uri": "https://localhost:8080/"
        },
        "id": "n0nsjEW_75we",
        "outputId": "bf2d73fe-638f-4593-f716-143d7345638a"
      },
      "execution_count": 4,
      "outputs": [
        {
          "output_type": "stream",
          "name": "stdout",
          "text": [
            "문제3 : 숫자형 데이터 기술 통계량\n",
            "              학번         학년          점수       공부시간\n",
            "count  21.000000  18.000000   21.000000  21.000000\n",
            "mean   10.952381   2.777778   90.523810   4.333333\n",
            "std     6.127611   1.165966   38.647922   5.650959\n",
            "min     1.000000   1.000000   60.000000   0.000000\n",
            "25%     6.000000   2.000000   69.000000   1.000000\n",
            "50%    11.000000   3.000000   83.000000   3.000000\n",
            "75%    16.000000   4.000000   94.000000   5.000000\n",
            "max    20.000000   4.000000  200.000000  20.000000\n"
          ]
        }
      ]
    },
    {
      "cell_type": "code",
      "source": [
        "# 4\n",
        "print(\"문제4 : 각 열의 결측치 확인\")\n",
        "print(pd.isna(df).sum())"
      ],
      "metadata": {
        "colab": {
          "base_uri": "https://localhost:8080/"
        },
        "id": "D_MvB4jm8RCh",
        "outputId": "6069be22-0af6-4ad7-b03a-52b5b1601399"
      },
      "execution_count": 5,
      "outputs": [
        {
          "output_type": "stream",
          "name": "stdout",
          "text": [
            "문제4 : 각 열의 결측치 확인\n",
            "학번      0\n",
            "이름      3\n",
            "학년      3\n",
            "점수      0\n",
            "분반      0\n",
            "공부시간    0\n",
            "dtype: int64\n"
          ]
        }
      ]
    },
    {
      "cell_type": "code",
      "source": [
        "# 5\n",
        "print(\"문제5 : 이상치 확인 (조건식)\")\n",
        "result = df[(df['점수']>100) | (df['공부시간'] > 10)]\n",
        "\n",
        "print(\"이상치 개수:\", len(result))\n",
        "\n",
        "print(\"이상치 데이터:\")\n",
        "print(result)"
      ],
      "metadata": {
        "colab": {
          "base_uri": "https://localhost:8080/"
        },
        "id": "ozvWSsTp9bA_",
        "outputId": "1864110a-308c-467b-ec76-a6b5ac9a9764"
      },
      "execution_count": 6,
      "outputs": [
        {
          "output_type": "stream",
          "name": "stdout",
          "text": [
            "문제5 : 이상치 확인 (조건식)\n",
            "이상치 개수: 4\n",
            "이상치 데이터:\n",
            "    학번    이름   학년   점수 분반  공부시간\n",
            "2    3   강감찬  4.0   91  C    20\n",
            "10  11   NaN  1.0  200  C     0\n",
            "11  12  신사임당  2.0   96  A    20\n",
            "18  19   이순신  1.0  200  A     3\n"
          ]
        }
      ]
    },
    {
      "cell_type": "code",
      "source": [
        "# 6\n",
        "print(\"문제6 : 완전 중복 행 확인\")\n",
        "print(\"중복 제거 전 데이터프레임 크기:\", df.shape)\n",
        "\n",
        "duplicate = df.duplicated(keep=False)\n",
        "print(\"완전 중복 행 개수:\", duplicate.sum())\n",
        "print(df[duplicate])"
      ],
      "metadata": {
        "colab": {
          "base_uri": "https://localhost:8080/"
        },
        "id": "vOpSjcTO9b3L",
        "outputId": "c8162c2b-18d0-40e0-f2f5-23ac5821ca7d"
      },
      "execution_count": 7,
      "outputs": [
        {
          "output_type": "stream",
          "name": "stdout",
          "text": [
            "문제6 : 완전 중복 행 확인\n",
            "중복 제거 전 데이터프레임 크기: (21, 6)\n",
            "완전 중복 행 개수: 2\n",
            "    학번    이름   학년  점수 분반  공부시간\n",
            "19  20  신사임당  2.0  61  A     2\n",
            "20  20  신사임당  2.0  61  A     2\n"
          ]
        }
      ]
    },
    {
      "cell_type": "code",
      "source": [
        "# 7\n",
        "print(\"문제7 : 완전 중복 제거\")\n",
        "drop = df.drop_duplicates()\n",
        "print(\"중복 제거 후 데이터프레임 크기:\", drop.shape)\n",
        "print(\"제거된 행 수:\", df.shape[0] - drop.shape[0])\n",
        "print(drop)"
      ],
      "metadata": {
        "colab": {
          "base_uri": "https://localhost:8080/"
        },
        "id": "QHoBAH0U9ckL",
        "outputId": "567d341e-bd7f-404d-a3ac-56ef3f5f9a98"
      },
      "execution_count": 8,
      "outputs": [
        {
          "output_type": "stream",
          "name": "stdout",
          "text": [
            "문제7 : 완전 중복 제거\n",
            "중복 제거 후 데이터프레임 크기: (20, 6)\n",
            "제거된 행 수: 1\n",
            "    학번    이름   학년   점수 분반  공부시간\n",
            "0    1  신사임당  NaN   69  B     4\n",
            "1    2   홍길동  1.0   92  B     3\n",
            "2    3   강감찬  4.0   91  C    20\n",
            "3    4   강감찬  2.0   70  C     5\n",
            "4    5   강감찬  3.0   83  C     5\n",
            "5    6   이순신  4.0   95  A     0\n",
            "6    7   강감찬  4.0   71  C     1\n",
            "7    8   김유신  NaN   88  B     5\n",
            "8    9  신사임당  3.0   94  A     9\n",
            "9   10   홍길동  NaN   60  B     3\n",
            "10  11   NaN  1.0  200  C     0\n",
            "11  12  신사임당  2.0   96  A    20\n",
            "12  13   김유신  4.0   65  A     0\n",
            "13  14   NaN  2.0   98  C     1\n",
            "14  15   홍길동  4.0   77  A     2\n",
            "15  16   이순신  4.0   75  A     4\n",
            "16  17   NaN  3.0   64  A     2\n",
            "17  18   홍길동  4.0   91  A     0\n",
            "18  19   이순신  1.0  200  A     3\n",
            "19  20  신사임당  2.0   61  A     2\n"
          ]
        }
      ]
    },
    {
      "cell_type": "code",
      "source": [
        "# 9\n",
        "plt.figure(figsize = (10, 6))\n",
        "plt.scatter(drop['공부시간'], drop['점수'], alpha = 0.6)\n",
        "\n",
        "plt.title('원본 데이터: 공부시간 vs 점수', fontsize=14)\n",
        "plt.xlabel('공부시간', fontsize=12)\n",
        "plt.ylabel('점수', fontsize=12)\n",
        "plt.grid(True, alpha = 0.2)\n",
        "plt.show()"
      ],
      "metadata": {
        "colab": {
          "base_uri": "https://localhost:8080/",
          "height": 566
        },
        "id": "9dBTJ_oZ9gOV",
        "outputId": "8698b393-4f09-4274-dd5c-d2ffdf4554bd"
      },
      "execution_count": 35,
      "outputs": [
        {
          "output_type": "display_data",
          "data": {
            "text/plain": [
              "<Figure size 1000x600 with 1 Axes>"
            ],
            "image/png": "[encoded data removed]"
          },
          "metadata": {}
        }
      ]
    },
    {
      "cell_type": "code",
      "source": [
        "# 10\n",
        "print(\"점수 이상치:\")\n",
        "print(df[df['점수']>100])\n",
        "\n",
        "print(\"공부시간 이상치:\")\n",
        "print(df[df['공부시간']>10])\n",
        "\n",
        "print(\"이상치가 제거된 데이터프레임:\")\n",
        "clean = df[(df['점수'] <= 100) & (df['공부시간'] <= 10)]\n",
        "print(clean)"
      ],
      "metadata": {
        "colab": {
          "base_uri": "https://localhost:8080/"
        },
        "id": "WorkucyR9hiO",
        "outputId": "035ec2fe-ab20-4ce8-a831-366d6d2636b1"
      },
      "execution_count": 42,
      "outputs": [
        {
          "output_type": "stream",
          "name": "stdout",
          "text": [
            "점수 이상치:\n",
            "    학번   이름   학년   점수 분반  공부시간\n",
            "10  11  NaN  1.0  200  C     0\n",
            "18  19  이순신  1.0  200  A     3\n",
            "공부시간 이상치:\n",
            "    학번    이름   학년  점수 분반  공부시간\n",
            "2    3   강감찬  4.0  91  C    20\n",
            "11  12  신사임당  2.0  96  A    20\n",
            "이상치가 제거된 데이터프레임:\n",
            "    학번    이름   학년  점수 분반  공부시간\n",
            "0    1  신사임당  NaN  69  B     4\n",
            "1    2   홍길동  1.0  92  B     3\n",
            "3    4   강감찬  2.0  70  C     5\n",
            "4    5   강감찬  3.0  83  C     5\n",
            "5    6   이순신  4.0  95  A     0\n",
            "6    7   강감찬  4.0  71  C     1\n",
            "7    8   김유신  NaN  88  B     5\n",
            "8    9  신사임당  3.0  94  A     9\n",
            "9   10   홍길동  NaN  60  B     3\n",
            "12  13   김유신  4.0  65  A     0\n",
            "13  14   NaN  2.0  98  C     1\n",
            "14  15   홍길동  4.0  77  A     2\n",
            "15  16   이순신  4.0  75  A     4\n",
            "16  17   NaN  3.0  64  A     2\n",
            "17  18   홍길동  4.0  91  A     0\n",
            "19  20  신사임당  2.0  61  A     2\n",
            "20  20  신사임당  2.0  61  A     2\n"
          ]
        }
      ]
    },
    {
      "cell_type": "code",
      "source": [
        "# 다음 데이터에 대해 IQR을 계산하고 이상치를 찾아보세요.\n",
        "data = pd.Series([10, 11, 12, 13, 14, 15, 100, 101])\n",
        "\n",
        "# Q1, Q3, IQR 계산\n",
        "Q1 = data.quantile(0.25)\n",
        "Q3 = data.quantile(0.75)\n",
        "IQR = Q3 - Q1\n",
        "print(\"Q1 Q3 IQ :\", Q1, Q3, IQR)\n",
        "\n",
        "# 하한, 상한 계산\n",
        "lower_bound = Q1 - 1.5 * IQR\n",
        "upper_bound = Q3 + 1.5 * IQR\n",
        "print(\"하한 상한 :\", lower_bound, upper_bound)\n",
        "\n",
        "# 이상치 확인\n",
        "outliers = data[(data < lower_bound) | (data > upper_bound)]\n",
        "print(\"이상치 :\")\n",
        "print(outliers)"
      ],
      "metadata": {
        "colab": {
          "base_uri": "https://localhost:8080/"
        },
        "id": "LhyyFOb_zoSU",
        "outputId": "f8618f06-2f27-4dbb-ba2b-b0361f22ca57"
      },
      "execution_count": 87,
      "outputs": [
        {
          "output_type": "stream",
          "name": "stdout",
          "text": [
            "Q1 Q3 IQ : 11.75 36.25 24.5\n",
            "하한 상한 : -25.0 73.0\n",
            "이상치 :\n",
            "6    100\n",
            "7    101\n",
            "dtype: int64\n"
          ]
        }
      ]
    },
    {
      "cell_type": "code",
      "source": [
        "# 점수에 대해서\n",
        "Q1_score = df['점수'].quantile(0.25)\n",
        "Q3_score = df['점수'].quantile(0.75)\n",
        "IQR_score = Q3_score - Q1_score\n",
        "\n",
        "lower_bound_score = Q1_score - 1.5 * IQR_score\n",
        "upper_bound_score = Q3_score + 1.5 * IQR_score\n",
        "\n",
        "outliers_score = df[(df['점수'] < lower_bound_score) | (df['점수'] > upper_bound_score)]\n",
        "print(outliers_score)"
      ],
      "metadata": {
        "colab": {
          "base_uri": "https://localhost:8080/"
        },
        "id": "4K1c-3ao0HOL",
        "outputId": "5cb017a5-5f90-4b1b-c38c-f1b8414b2b98"
      },
      "execution_count": 90,
      "outputs": [
        {
          "output_type": "stream",
          "name": "stdout",
          "text": [
            "    학번   이름   학년   점수 분반  공부시간\n",
            "10  11  NaN  1.0  200  C     0\n",
            "18  19  이순신  1.0  200  A     3\n"
          ]
        }
      ]
    },
    {
      "cell_type": "code",
      "source": [
        "# 공부시간에 대해서\n",
        "Q1_time = df['공부시간'].quantile(0.25)\n",
        "Q3_time = df['공부시간'].quantile(0.75)\n",
        "IQR_time = Q3_time - Q1_time\n",
        "\n",
        "lower_bound_time = Q1_time - 1.5 * IQR_time\n",
        "upper_bound_time = Q3_time + 1.5 * IQR_time\n",
        "\n",
        "outliers_time = df[(df['공부시간'] < lower_bound_time) | (df['공부시간'] > upper_bound_time)]\n",
        "print(outliers_time)"
      ],
      "metadata": {
        "colab": {
          "base_uri": "https://localhost:8080/"
        },
        "id": "cz934jwk3sGn",
        "outputId": "d7b0099a-2cb2-4a01-eda4-6e5e861f9ca8"
      },
      "execution_count": 91,
      "outputs": [
        {
          "output_type": "stream",
          "name": "stdout",
          "text": [
            "    학번    이름   학년  점수 분반  공부시간\n",
            "2    3   강감찬  4.0  91  C    20\n",
            "11  12  신사임당  2.0  96  A    20\n"
          ]
        }
      ]
    },
    {
      "cell_type": "code",
      "source": [
        "# 이상치가 제거된 데이터프레임\n",
        "df_no_outliers = df[\n",
        "\n",
        "    (df['점수'] >= lower_bound_score) & (df['점수'] <= upper_bound_score) &\n",
        "    (df['공부시간'] >= lower_bound_time) & (df['공부시간'] <= upper_bound_time)\n",
        "]\n",
        "\n",
        "df_no_outliers = df_no_outliers.reset_index()\n",
        "print(df_no_outliers)"
      ],
      "metadata": {
        "colab": {
          "base_uri": "https://localhost:8080/"
        },
        "id": "NoDWVIpD2EWN",
        "outputId": "f3bcad95-1012-4c20-b4b3-3d863f88696f"
      },
      "execution_count": 92,
      "outputs": [
        {
          "output_type": "stream",
          "name": "stdout",
          "text": [
            "    index  학번    이름   학년  점수 분반  공부시간\n",
            "0       0   1  신사임당  NaN  69  B     4\n",
            "1       1   2   홍길동  1.0  92  B     3\n",
            "2       3   4   강감찬  2.0  70  C     5\n",
            "3       4   5   강감찬  3.0  83  C     5\n",
            "4       5   6   이순신  4.0  95  A     0\n",
            "5       6   7   강감찬  4.0  71  C     1\n",
            "6       7   8   김유신  NaN  88  B     5\n",
            "7       8   9  신사임당  3.0  94  A     9\n",
            "8       9  10   홍길동  NaN  60  B     3\n",
            "9      12  13   김유신  4.0  65  A     0\n",
            "10     13  14   NaN  2.0  98  C     1\n",
            "11     14  15   홍길동  4.0  77  A     2\n",
            "12     15  16   이순신  4.0  75  A     4\n",
            "13     16  17   NaN  3.0  64  A     2\n",
            "14     17  18   홍길동  4.0  91  A     0\n",
            "15     19  20  신사임당  2.0  61  A     2\n",
            "16     20  20  신사임당  2.0  61  A     2\n"
          ]
        }
      ]
    },
    {
      "cell_type": "code",
      "source": [
        "# 11\n",
        "print(\"문제11 : 분반별 점수 평균\")\n",
        "class_mean = clean.groupby('분반')['점수'].mean()\n",
        "print(class_mean.round(2))"
      ],
      "metadata": {
        "id": "4EiItSjC9ipO",
        "colab": {
          "base_uri": "https://localhost:8080/"
        },
        "outputId": "ce35605e-c136-4e16-9c60-b4bb62815b20"
      },
      "execution_count": 67,
      "outputs": [
        {
          "output_type": "stream",
          "name": "stdout",
          "text": [
            "문제11 : 분반별 점수 평균\n",
            "분반\n",
            "A    75.89\n",
            "B    77.25\n",
            "C    80.50\n",
            "Name: 점수, dtype: float64\n"
          ]
        }
      ]
    },
    {
      "cell_type": "code",
      "source": [
        "# 12\n",
        "plt.figure(figsize = (10, 6))\n",
        "plt.bar(class_mean.index, class_mean.values, color='skyblue', width=0.6)\n",
        "\n",
        "plt.title(\"분반별 평균 점수\", fontsize=16)\n",
        "plt.xlabel(\"분반\", fontsize=14)\n",
        "plt.ylabel(\"평균 점수\", fontsize=14)\n",
        "plt.grid( axis='y', alpha = 0.2)\n",
        "plt.show()\n",
        "\n",
        "plt.figure(figsize = (10, 6))\n",
        "plt.scatter(clean['공부시간'], clean['점수'], alpha = 0.6, s=8**2)\n",
        "\n",
        "plt.title(\"공부시간과 점수의 관계\", fontsize=16)\n",
        "plt.xlabel(\"공부시간\", fontsize=14)\n",
        "plt.ylabel(\"점수\", fontsize=14)\n",
        "plt.grid(True, alpha = 0.2)\n",
        "plt.show()"
      ],
      "metadata": {
        "id": "DGZp0qg39jfB",
        "colab": {
          "base_uri": "https://localhost:8080/",
          "height": 1000
        },
        "outputId": "6992788e-3a60-40c2-b697-12cd7474f599"
      },
      "execution_count": 93,
      "outputs": [
        {
          "output_type": "display_data",
          "data": {
            "text/plain": [
              "<Figure size 1000x600 with 1 Axes>"
            ],
            "image/png": "[encoded data removed]"
          },
          "metadata": {}
        },
        {
          "output_type": "display_data",
          "data": {
            "text/plain": [
              "<Figure size 1000x600 with 1 Axes>"
            ],
            "image/png": "[encoded data removed]"
          },
          "metadata": {}
        }
      ]
    }
  ]
}