{
  "nbformat": 4,
  "nbformat_minor": 0,
  "metadata": {
    "colab": {
      "provenance": [],
      "authorship_tag": "ABX9TyOGncvPGVkIb68++3BHVM54",
      "include_colab_link": true
    },
    "kernelspec": {
      "name": "python3",
      "display_name": "Python 3"
    },
    "language_info": {
      "name": "python"
    }
  },
  "cells": [
    {
      "cell_type": "markdown",
      "metadata": {
        "id": "view-in-github",
        "colab_type": "text"
      },
      "source": [
        "<a href=\"https://colab.research.google.com/github/SuminPark-02/AIpython/blob/main/250328.ipynb\" target=\"_parent\"><img src=\"https://colab.research.google.com/assets/colab-badge.svg\" alt=\"Open In Colab\"/></a>"
      ]
    },
    {
      "cell_type": "markdown",
      "source": [
        "# 조건문"
      ],
      "metadata": {
        "id": "U3GArGhOrK7G"
      }
    },
    {
      "cell_type": "code",
      "execution_count": null,
      "metadata": {
        "colab": {
          "base_uri": "https://localhost:8080/"
        },
        "id": "-Rjf6F9TR6hk",
        "outputId": "2599d0b3-561e-4348-f1c8-76bc564c05af"
      },
      "outputs": [
        {
          "output_type": "stream",
          "name": "stdout",
          "text": [
            "첫 번째 정수를 입력하세요: 2\n",
            "두 번째 정수를 입력하세요: 2\n",
            "2과(와) 2은(는) 같습니다.\n"
          ]
        }
      ],
      "source": [
        "# 두 수 비교하기\n",
        "num1 = int(input(\"첫 번째 정수를 입력하세요: \"))\n",
        "num2 = int(input(\"두 번째 정수를 입력하세요: \"))\n",
        "\n",
        "if num1 == num2:\n",
        "  print(f'{num1}과(와) {num2}은(는) 같습니다.')\n",
        "elif num1 > num2:\n",
        "  print(f'{num1}은(는) {num2}보다 큽니다.')\n",
        "else:\n",
        "  print(f'{num1}은(는) {num2}보다 작습니다.')"
      ]
    },
    {
      "cell_type": "code",
      "source": [
        "# 세 수 중 가장 큰 수 찾기\n",
        "num1 = int(input(\"첫 번째 정수를 입력하세요: \"))\n",
        "num2 = int(input(\"두 번째 정수를 입력하세요: \"))\n",
        "num3 = int(input(\"세 번째 정수를 입력하세요: \"))\n",
        "\n",
        "max_num = num1\n",
        "\n",
        "if max_num < num2:\n",
        "  max_num = num2\n",
        "if max_num < num3:\n",
        "  max_num = num3\n",
        "\n",
        "print(f'입력하신 세 수 {num1}, {num2}, {num3} 중에서 가장 큰 수는 {max_num}입니다.')"
      ],
      "metadata": {
        "colab": {
          "base_uri": "https://localhost:8080/"
        },
        "id": "_qKf5N6MYVcx",
        "outputId": "123fb082-6de3-45f3-dbcd-9e5ccaf10e77"
      },
      "execution_count": null,
      "outputs": [
        {
          "output_type": "stream",
          "name": "stdout",
          "text": [
            "첫 번째 정수를 입력하세요: -1\n",
            "두 번째 정수를 입력하세요: 2\n",
            "세 번째 정수를 입력하세요: -3\n",
            "입력하신 세 수 -1, 2, -3 중에서 가장 큰 수는 2입니다.\n"
          ]
        }
      ]
    },
    {
      "cell_type": "code",
      "source": [
        "# 학점 판별하기\n",
        "score = int(input(\"시험 점수(0~100점)를 입력하세요: \"))\n",
        "\n",
        "if 0 <= score <= 100:\n",
        "  if score >= 90:\n",
        "    grade = 'A'\n",
        "  elif score >= 80:\n",
        "    grade = 'B'\n",
        "  elif score >= 70:\n",
        "    grade = 'C'\n",
        "  elif score >= 60:\n",
        "    grade = 'D'\n",
        "  else:\n",
        "    grade = 'F'\n",
        "  print(f'당신의 학점은 {grade}입니다.')\n",
        "else:\n",
        "  print(\"점수는 0부터 100 사이의 값이어야 합니다.\")"
      ],
      "metadata": {
        "colab": {
          "base_uri": "https://localhost:8080/"
        },
        "id": "zErxfO9Hbo7s",
        "outputId": "7be1113f-bf32-4ee2-af24-c803fcbeebe7"
      },
      "execution_count": null,
      "outputs": [
        {
          "output_type": "stream",
          "name": "stdout",
          "text": [
            "시험 점수(0~100점)를 입력하세요: 22\n",
            "당신의 학점은 F입니다.\n"
          ]
        }
      ]
    },
    {
      "cell_type": "code",
      "source": [
        "# 윤년 판별하기\n",
        "year = int(input(\"연도를 입력해주세요: \"))\n",
        "\n",
        "if (year % 4 == 0 and year % 100 != 0) or (year % 400 == 0):\n",
        "  print(f'{year}년은 윤년입니다.')\n",
        "else:\n",
        "  print(f'{year}년은 윤년이 아닙니다.')"
      ],
      "metadata": {
        "colab": {
          "base_uri": "https://localhost:8080/"
        },
        "id": "ErYQ1eoXdnEC",
        "outputId": "73402e20-3e74-4571-cc4d-069fb7b11064"
      },
      "execution_count": null,
      "outputs": [
        {
          "output_type": "stream",
          "name": "stdout",
          "text": [
            "연도를 입력해주세요: 2002\n",
            "2002년은 윤년이 아닙니다.\n"
          ]
        }
      ]
    },
    {
      "cell_type": "markdown",
      "source": [
        "# 반복문"
      ],
      "metadata": {
        "id": "VkrkKfcxrEek"
      }
    },
    {
      "cell_type": "code",
      "source": [
        "for i in range(5):\n",
        "  print(\"반복!\", i+1)"
      ],
      "metadata": {
        "colab": {
          "base_uri": "https://localhost:8080/"
        },
        "id": "yg_ro3t_k4iz",
        "outputId": "e007a038-0504-4acb-bc9f-f80a19a3f0d1"
      },
      "execution_count": null,
      "outputs": [
        {
          "output_type": "stream",
          "name": "stdout",
          "text": [
            "반복! 1\n",
            "반복! 2\n",
            "반복! 3\n",
            "반복! 4\n",
            "반복! 5\n"
          ]
        }
      ]
    },
    {
      "cell_type": "code",
      "source": [
        "for i in range(1, 6):\n",
        "  print(\"반복!\", i)"
      ],
      "metadata": {
        "colab": {
          "base_uri": "https://localhost:8080/"
        },
        "id": "-mAXDAp8lzto",
        "outputId": "8a507a79-49cc-4b63-99c3-8a52f1695f3f"
      },
      "execution_count": null,
      "outputs": [
        {
          "output_type": "stream",
          "name": "stdout",
          "text": [
            "반복! 1\n",
            "반복! 2\n",
            "반복! 3\n",
            "반복! 4\n",
            "반복! 5\n"
          ]
        }
      ]
    },
    {
      "cell_type": "code",
      "source": [
        "for i in range(1, 10, 2):\n",
        "  print(\"반복!\", i)"
      ],
      "metadata": {
        "colab": {
          "base_uri": "https://localhost:8080/"
        },
        "id": "eKooqP5pmQj4",
        "outputId": "9df13be3-6dc5-4bab-f36a-e6f7063c16e0"
      },
      "execution_count": null,
      "outputs": [
        {
          "output_type": "stream",
          "name": "stdout",
          "text": [
            "반복! 1\n",
            "반복! 3\n",
            "반복! 5\n",
            "반복! 7\n",
            "반복! 9\n"
          ]
        }
      ]
    },
    {
      "cell_type": "code",
      "source": [
        "for i in [1, 2, 3, 4, 5]:\n",
        "  print(\"반복!\", i)"
      ],
      "metadata": {
        "colab": {
          "base_uri": "https://localhost:8080/"
        },
        "id": "FaN2ckm0mZPR",
        "outputId": "a1612321-70cf-45ee-9497-f0c68f2d9ce7"
      },
      "execution_count": null,
      "outputs": [
        {
          "output_type": "stream",
          "name": "stdout",
          "text": [
            "반복! 1\n",
            "반복! 2\n",
            "반복! 3\n",
            "반복! 4\n",
            "반복! 5\n"
          ]
        }
      ]
    },
    {
      "cell_type": "code",
      "source": [
        "# 1부터 N까지의 합 계산하기\n",
        "N = int(input(\"양의 정수 N을 입력하세요: \"))\n",
        "sum = 0\n",
        "\n",
        "if N <= 0:\n",
        "  print(\"N은 양의 정수여야 합니다.\")\n",
        "else:\n",
        "  for i in range(1, N+1):\n",
        "    sum += i\n",
        "  print(f'1부터 {N}까지의 합은: {sum}입니다.')"
      ],
      "metadata": {
        "colab": {
          "base_uri": "https://localhost:8080/"
        },
        "id": "yQC3VhKPokOK",
        "outputId": "8ed96e93-ef98-4ae7-dc3b-e10e40d64c38"
      },
      "execution_count": null,
      "outputs": [
        {
          "output_type": "stream",
          "name": "stdout",
          "text": [
            "양의 정수 N을 입력하세요: 10000\n",
            "1부터 10000까지의 합은: 50005000입니다.\n"
          ]
        }
      ]
    },
    {
      "cell_type": "code",
      "source": [
        "# 특정 조건까지 반복하기 (while 루프)\n",
        "count = 0\n",
        "print(\"0부터 9까지 출력:\")\n",
        "while count < 10:\n",
        "  print(count)\n",
        "  count += 1\n",
        "print(\"while 루프 종료\")"
      ],
      "metadata": {
        "colab": {
          "base_uri": "https://localhost:8080/"
        },
        "id": "a2PiccSsrYSS",
        "outputId": "1b01b0de-3dda-4a80-b64c-4832aaf5424e"
      },
      "execution_count": null,
      "outputs": [
        {
          "output_type": "stream",
          "name": "stdout",
          "text": [
            "0부터 9까지 출력:\n",
            "0\n",
            "1\n",
            "2\n",
            "3\n",
            "4\n",
            "5\n",
            "6\n",
            "7\n",
            "8\n",
            "9\n",
            "while 루프 종료\n"
          ]
        }
      ]
    },
    {
      "cell_type": "code",
      "source": [
        "# for 루프로 바꾸기\n",
        "print(\"0부터 9까지 출력:\")\n",
        "for i in range(10):\n",
        "  print(i)\n",
        "print(\"for 루프 종료\")"
      ],
      "metadata": {
        "colab": {
          "base_uri": "https://localhost:8080/"
        },
        "id": "pVFJc5SjsNwP",
        "outputId": "df02a39e-53ef-4f2f-b7e1-3112f40c34ce"
      },
      "execution_count": null,
      "outputs": [
        {
          "output_type": "stream",
          "name": "stdout",
          "text": [
            "0부터 9까지 출력:\n",
            "0\n",
            "1\n",
            "2\n",
            "3\n",
            "4\n",
            "5\n",
            "6\n",
            "7\n",
            "8\n",
            "9\n",
            "for 루프 종료\n"
          ]
        }
      ]
    }
  ]
}